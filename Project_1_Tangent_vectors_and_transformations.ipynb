{
  "nbformat": 4,
  "nbformat_minor": 0,
  "metadata": {
    "colab": {
      "name": "Project 1:  Tangent vectors and transformations ",
      "provenance": [],
      "authorship_tag": "ABX9TyPiKxYG8yVSFb8C3ZYGfBHs",
      "include_colab_link": true
    },
    "kernelspec": {
      "name": "python3",
      "display_name": "Python 3"
    }
  },
  "cells": [
    {
      "cell_type": "markdown",
      "metadata": {
        "id": "view-in-github",
        "colab_type": "text"
      },
      "source": [
        "<a href=\"https://colab.research.google.com/github/awangberg/AdvLinearAlgebra/blob/master/Project_1_Tangent_vectors_and_transformations.ipynb\" target=\"_parent\"><img src=\"https://colab.research.google.com/assets/colab-badge.svg\" alt=\"Open In Colab\"/></a>"
      ]
    },
    {
      "cell_type": "markdown",
      "metadata": {
        "id": "57j2zq31_0qa",
        "colab_type": "text"
      },
      "source": [
        "# Project 1:  Tangent vectors and transformations"
      ]
    },
    {
      "cell_type": "markdown",
      "metadata": {
        "id": "ngQ6BrES_7-Y",
        "colab_type": "text"
      },
      "source": [
        "For this project, we'll look at the transformations arising from each of the matrices below:\n",
        "\n",
        "$$ A = \\left( \\begin{array}{ccc} 0 & -1 & 0 \\\\ 1 & 0 & 0 \\\\ 0 & 0 & 0 \\\\ \\end{array} \\right) \\hspace{2cm}\n",
        "B = \\left( \\begin{array}{ccc} 0 & 0 & 0 \\\\ 0 & 0 & -1 \\\\ 1 & 0 & 0 \\\\ \\end{array} \\right) \\hspace{2cm}\n",
        "C = \\left( \\begin{array}{ccc} 0 & 0 & 1 \\\\ 0 & 0 & 0 \\\\ -1 & 0 & 0 \\\\ \\end{array} \\right) \\hspace{2cm}\n",
        "$$\n",
        "\n",
        "The computational part of this project involves the following steps:\n",
        "\n",
        "1.  The columns of a matrix tell us what happens to the basis vectors in a vector space.  Explain what matrices $A$, $B$, and $C$ do to the standard basis elements for $\\mathbb{R}^3$.  (Note:  Bonus points for creating a graph showing what happens to each basis vector. )\n",
        "\n",
        "2.  Compute $exp(t\\,A), exp(t\\,B)$, and $exp(t\\,C)$ for each matrix, which is defined as\n",
        "  $$ exp(M) = I_n + M + \\frac{1}{2!} M^2 + \\frac{1}{3!} M^3 + \\cdots + \\frac{1}{m!} M^m + \\cdots $$\n",
        "\n",
        "  To do this, separately compute $$M, Mt, (Mt)^2, (Mt)^3, (Mt)^4, (Mt)^5, (Mt)^6$$ and combine them to form the first several terms of $exp(Mt)$ for each of your three matrices.\n",
        "\n",
        "  \n",
        "3.  We can think of each of the $3 \\times 3$ matrices in part 2 as maps, or transformations $\\gamma: \\mathbb{R} \\to \\mathbb{M}_{3\\times3}$, which depending on $t$ and which act on the space $\\mathbb{R}^3$:\n",
        "\n",
        "$$ \\gamma_A(t) = exp(t\\,A) \\hspace{2cm} \\gamma_B(t) = exp(t\\, B) \\hspace{2cm} \\gamma_C(t) = exp(t\\,C)$$\n",
        "What do each of these matrices do to the space $\\mathbb{R}^3$?\n",
        "\n",
        "4.  What causes more rotation, $\\gamma_A(t) \\circ \\gamma_A(t)$ or  $\\gamma_A(2t)$?\n",
        "\n",
        "5. If we pick two of the transformations, say $\\gamma_A(t)$ and $\\gamma_B(t)$, and then apply them like so:\n",
        "$$  Q = \\gamma_B(-t) \\circ \\gamma_A(-t) \\circ \\gamma_B(t) \\circ \\gamma_A(t)$$\n",
        "the result is <b>not necessarily</b> the identity transformation!  Find this transformation $Q$ and describe what it does to $\\mathbb{R}^3$.\n",
        "\n",
        "6.  A tangent vector is found by taking a derivative (with respect to $t$) and evaluating that derivative (at $t = 0$).  Find the tangent vector of:\n",
        "\n",
        "$$  \\gamma_A(t)  \\hspace{2cm}  \\gamma_B(t) \\hspace{2cm}  \\gamma_C(t) \\hspace{2cm} Q$$\n",
        "\n",
        "7.  Compute the product $[ A, B ] = AB - BA$.  Compare this result to the tangent vectors in the previous problem.\n"
      ]
    },
    {
      "cell_type": "markdown",
      "metadata": {
        "id": "0nfOKjAOHMul",
        "colab_type": "text"
      },
      "source": [
        "# Code\n",
        "Put your code in this section. \n",
        "We'll use the package sympy to do symbolic computations in our code.\n",
        "\n",
        "Be sure to write comments in your code.\n",
        "Comments start with # symbols.\n",
        "\n",
        "Lastly, create an organization for your code.  (This organization is up to you!  )"
      ]
    },
    {
      "cell_type": "code",
      "metadata": {
        "id": "dNAjzxLD2rlL",
        "colab_type": "code",
        "colab": {
          "base_uri": "https://localhost:8080/",
          "height": 34
        },
        "outputId": "a9063b15-b9d2-415c-99de-ec425bd48b73"
      },
      "source": [
        "import matplotlib.pyplot as plt\n",
        "import sympy as sym\n",
        "\n",
        "\n",
        "# Comments start with a hash mark.\n",
        "\n",
        "# We'll specify that x and t are variables:\n",
        "x, t = sym.symbols('x, t')\n",
        "\n",
        "# this is a expression:\n",
        "expr = (x + t)**2\n",
        "\n",
        "# Use 'sym.latex(...) to produce the math expression in latex.  \n",
        "# Then, copy and paste the latex into a text field \n",
        "# Put it inside single dollar signs $ ... $ to typeset the mathematics inline,\n",
        "# or inside double dollar signs $$ ... $$ to center the math on its own line. \n",
        "sym.latex(expr.expand())\n",
        "\n",
        "# How to create a matrix S:\n",
        "S = sym.Matrix([[0, 1, 0], [1, 0, 0], [0, 0, 1]])\n",
        "# or a 3x3 identity matrix:\n",
        "I3 = sym.eye(3)\n",
        "\n",
        "# How to multiply the matrix S by the variable t:\n",
        "St = S*t\n",
        "\n",
        "# How to output the latex so the matrix looks nice:\n",
        "sym.latex(St)\n",
        "\n"
      ],
      "execution_count": 19,
      "outputs": [
        {
          "output_type": "execute_result",
          "data": {
            "text/plain": [
              "'\\\\left[\\\\begin{matrix}t^{2} & 0 & 0\\\\\\\\0 & t^{2} & 0\\\\\\\\0 & 0 & t^{2}\\\\end{matrix}\\\\right]'"
            ]
          },
          "metadata": {
            "tags": []
          },
          "execution_count": 19
        }
      ]
    },
    {
      "cell_type": "markdown",
      "metadata": {
        "id": "5wMQ0SGi5_aP",
        "colab_type": "text"
      },
      "source": [
        "This is the matrix, but two things need to be fixed:\n",
        "\n",
        "$$ \\\\left[\\\\begin{matrix}0 & t & 0\\\\\\\\t & 0 & 0\\\\\\\\0 & 0 & t\\\\end{matrix}\\\\right] $$\n",
        "\n",
        "1)  Replace every \\\\ with a single \\\n",
        "2)  Put some space before the \\ marks, or after the \\\\ marks\n",
        "\n",
        "$$ \\left[ \\begin{matrix}0 & t & 0 \\\\ t & 0 & 0 \\\\ 0 & 0 & t \\end{matrix} \\right] $$\n"
      ]
    },
    {
      "cell_type": "markdown",
      "metadata": {
        "id": "hPTaQg2aHT_L",
        "colab_type": "text"
      },
      "source": [
        "# Executive Summary\n",
        "\n",
        "In this section, your goal is to write a 2 page report giving an overview of the project given above.  This does not mean provide the answers to each question above.  Instead, think of the important relationships between the matrices, the continuous maps, tangent vectors, and transformations that you found above.  Those pieces fit together into one coherent story.\n",
        "\n",
        "In your executive summary, describe that story.  Your executive summary does not need to include complex computations, but it should include the results of relevant computations using math objects like matrices, derivatives, or tangent vectors.\n",
        "\n",
        "At  the end of your executive summary, you should also include two short paragraphs detailing (1) an important or unexpected result, and (2) a challenge you faced in the project and how you dealt with that challenge."
      ]
    },
    {
      "cell_type": "code",
      "metadata": {
        "id": "Oneug-i0_wLj",
        "colab_type": "code",
        "colab": {}
      },
      "source": [
        ""
      ],
      "execution_count": 0,
      "outputs": []
    }
  ]
}