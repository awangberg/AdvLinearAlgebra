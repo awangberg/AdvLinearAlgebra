{
  "nbformat": 4,
  "nbformat_minor": 0,
  "metadata": {
    "colab": {
      "name": "Project 2: Summary of Transformations.ipynb",
      "provenance": [],
      "authorship_tag": "ABX9TyMZV+tBibcD0sfBUtGq8hmW",
      "include_colab_link": true
    },
    "kernelspec": {
      "name": "python3",
      "display_name": "Python 3"
    }
  },
  "cells": [
    {
      "cell_type": "markdown",
      "metadata": {
        "id": "view-in-github",
        "colab_type": "text"
      },
      "source": [
        "<a href=\"https://colab.research.google.com/github/awangberg/AdvLinearAlgebra/blob/master/Project_2_Summary_of_Transformations.ipynb\" target=\"_parent\"><img src=\"https://colab.research.google.com/assets/colab-badge.svg\" alt=\"Open In Colab\"/></a>"
      ]
    },
    {
      "cell_type": "code",
      "metadata": {
        "id": "5ONqObQuNN0k",
        "colab_type": "code",
        "colab": {}
      },
      "source": [
        "# standard imports....\n",
        "import matplotlib.pyplot as plt\n",
        "from matplotlib import collections  as mc\n",
        "import numpy as np\n",
        "import sympy as sym"
      ],
      "execution_count": 0,
      "outputs": []
    },
    {
      "cell_type": "markdown",
      "metadata": {
        "id": "jqQNzhpyNROp",
        "colab_type": "text"
      },
      "source": [
        "We have worked with transformations for the last several weeks.\n",
        "\n",
        "The second project spans the assignments and projects involving transformations.  There are two `flavors` for this project:\n",
        "\n",
        "1)  An engineering project which applies transformation ideas.\n",
        "\n",
        "2)  A mathematics project summarizing the transformation ideas.\n",
        "\n",
        "You need to complete one of these two projects with an executive summary write-up for Project 2."
      ]
    },
    {
      "cell_type": "markdown",
      "metadata": {
        "id": "gytcMAJ-0M7n",
        "colab_type": "text"
      },
      "source": [
        "#Project \\#2:  Engineering Project\n",
        "\n",
        "Consider the picture below:\n",
        "\n"
      ]
    },
    {
      "cell_type": "code",
      "metadata": {
        "id": "Z8OfvJi01MOb",
        "colab_type": "code",
        "outputId": "03455ba3-3181-4e5a-f056-d4b47759b20a",
        "colab": {
          "base_uri": "https://localhost:8080/",
          "height": 201
        }
      },
      "source": [
        "#set up some color arrays:\n",
        "c = np.array([(1, .5, .5, 1), (0, 1, 0, 1), (0, 0, 1, 1)])\n",
        "\n",
        "#  Draw a line from (-5, 2) to (5, 2)\n",
        "lines = [[(-5, 2), (5, 2)]]\n",
        "\n",
        "lc = mc.LineCollection(lines, colors=c, linewidths=4)\n",
        "\n",
        "\n",
        "N = np.array([[-10, 8, 6, -6], [-3,5,3,-3], [ 1,5,3,-3]])\n",
        "N1, N2, N3, N4 = zip(*N)\n",
        "S = np.array([[-3, 1, -1, 1], [2,0,-2,2], [ 5,1,-1,1]])\n",
        "S1, S2, S3, S4 = zip(*S)\n",
        "T = np.array([[-3, 4, -1, -2], [1,4,-1,-2], [ 6,6,-2,-4]])\n",
        "T1, T2, T3, T4 = zip(*T)\n",
        "plt.figure()\n",
        "ax = plt.gca()\n",
        "#Add the line segment:\n",
        "ax.add_collection(lc)\n",
        "#Add blue vectors:\n",
        "ax.quiver(N1,N2,N3, N4, angles='xy', scale_units='xy', scale=1, color='blue')\n",
        "#Add the red vectors:\n",
        "ax.quiver(S1,S2,S3, S4, angles='xy', scale_units='xy', scale=1, color='red')\n",
        "#Add the purple vectors:\n",
        "ax.quiver(T1,T2,T3, T4, angles='xy', scale_units='xy', scale=1, color='purple')\n",
        "xmin = -10\n",
        "ymin = 0\n",
        "xmax = 8\n",
        "ymax = 8\n",
        "ax.set_xlim([xmin, xmax])\n",
        "ax.set_ylim([ymin, ymax])\n",
        "ax.set_aspect(\"equal\")\n",
        "plt.grid(True)\n",
        "plt.draw()\n",
        "plt.show()"
      ],
      "execution_count": 0,
      "outputs": [
        {
          "output_type": "display_data",
          "data": {
            "image/png": "[encoded data removed]",
            "text/plain": [
              "<Figure size 432x288 with 1 Axes>"
            ]
          },
          "metadata": {
            "tags": []
          }
        }
      ]
    },
    {
      "cell_type": "markdown",
      "metadata": {
        "id": "I7ohsxCC42GQ",
        "colab_type": "text"
      },
      "source": [
        "The picture above contains the cross-section of an material (shown in orange) with three forces (blue, purcple, and red) acting on it.\n",
        "The direction of the vectors can be determined from the graph - all of the vectors of the same color group are oriented the same way;  One vector of each color has a larger magnitude by a factor of 2.\n",
        "\n",
        "#1:  Create a scenario:\n",
        "\n",
        "For the first part of the project, create an engineering scenario which incorporates the above diagram.  Your story should be complete with an objective happening in the $x$ and $y$ directions.  You may add additional information to the problem as necessary.\n",
        "\n",
        "Note:  All of the vectors of one color should correspond to the same quantity (e.g. a force, or a mass, or strain, or ...?).  Complete your story with appropriate quantities (that is, actual numbers with units) for the blue, purple, and red vectors.\n",
        "\n",
        "#2:  Set up and solve the system:\n",
        "\n",
        "Create a matrix to set-up and solve the system using the vectors in the basis given by the blue and purple vector directions.  Answer your question using the standard vectors pointing along the $x$ and $y$ directions.\n",
        "\n",
        "#3:  Second Scenario:\n",
        "\n",
        "The problem above could possibly have been solved just by translating the nine vectors into their coordinates using the canonical basis.  However, if you were given the following two conditions for a more complicated problem:\n",
        "\n",
        "1)  The orange segment is only $\\frac{1}{10}$ of the entire segment.  That is, the orange part (measuring $10 cm$, or $10 m$, or $1.0 km$) repeats itself for $100 cm$, $100 m$, or $10 km$. (This is the problem set-up.  Use appropriate units!)\n",
        "\n",
        "2)  On each subsequent segment, the long red, blue, and purple vectors grow (or shrink) by some constant factor  (which you can choose - do not choose a factor of 0 or 1).\n",
        "\n",
        "Now, solve the same problem as posed in Probem 1, but over the whole segment.  Be sure, in your write-up, to describe the scenario and the additional growth/reduction in the vector quantities.  Also, describe how you incorporated these quantities (and the additional segments) into your model.\n",
        "\n",
        "For this problem, I strongly encourage you to solve the system using the basis given by the blue and purple vectors directions.  Be sure to answer your question using the standard vectors pointing along the $x$ and $y$ directions.\n",
        "\n",
        "Lastly, include a reflection on (1) the most difficult part of the project, and (2) how you overcame that portion of the project.  This should be longer than a sentence (e.g. a paragraph).  Feel free to include an example in this section.\n"
      ]
    },
    {
      "cell_type": "markdown",
      "metadata": {
        "id": "LwNb0KLC9_1b",
        "colab_type": "text"
      },
      "source": [
        "# Project \\#2: Transformations as maps\n",
        "\n",
        "The project's we've developed the first part of this semester involve translating an object (say a car) from one location to another.  This project analyzes the type of matrices used to solve these systems.\n",
        "\n",
        "1)  There are infinitely many matrices which take a car from a given location (say $(3, 5)$) to another given location (say $(-2, -2)$).  We found three different ways to do this: \n",
        "\n",
        "  > 1.1. Directly finding the matrix $M$ taking the first point to the second.\n",
        "\n",
        "  > 1.2. Composing $M$ as a combination of $3 \\times 3$ rotation and translation matrices\n",
        "\n",
        "  > 1.3. Forming $M$ from matrices which work with two different bases.\n",
        "\n",
        "All three of these produced the exact same map, since what they did on the plane was the same in all three cases.  However, the matrices themselves were very different in some cases.\n",
        "\n",
        "Questions:\n",
        "\n",
        "1. Do all three methods above preserve distance between nearby points?  Generate example matrices using the above three methods, and categorize them into cases which either (a) preserve distances or (b) change distances.  What matrix properties do the matrices in (a) have that are different than those in (b)?\n",
        "\n",
        "\\[ To preserve distance means that a point $s$ units away from $(3,5)$ is then also $s$ units away from $(-2,-2)$. \\]\n",
        "\n",
        "2)  If we didn't include the headlights in our original example, there would be infinitely many matrices which bring $(3, 5)$ to the point $(-2, -2)$.  Generate at least 3 examples of matrices which do this.  What property do these matrices have?\n",
        "\n",
        "\n",
        "3)  The matrices formed via 1.1, 1.2, and 1.3 all perform the same transformation, but look different.  If they perform the same action, then we should be able to find maps between the matrices.  Pick two of the methods and create two functions (maps), one which makes the second matrix from the first, and one which makes the first matrix from the second.\n",
        "\n",
        "> 3.1 Do your maps work for matrices formed from other starting and ending points?\n",
        "\n",
        "> 3.2 Are there any cases (e.g. a starting and ending point) where your maps are invertible?  Not invertible?\n",
        "\n",
        "The write-up for this project should be approximately 2-4 pages, including examples of the matrices generated for the examples.  Be sure to summarize the overall impact of the questions - you may be able to re-use examples from one part to another.\n",
        "\n",
        "Lastly, include a reflection on (1) the most difficult part of the project, and (2) how you overcame that portion of the project.  This should be longer than a sentence (e.g. a paragraph).  Feel free to include an example in this section.\n",
        "\n",
        "\n",
        "\n"
      ]
    }
  ]
}