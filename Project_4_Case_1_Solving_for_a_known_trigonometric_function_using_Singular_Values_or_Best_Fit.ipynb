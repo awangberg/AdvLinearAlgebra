{
  "nbformat": 4,
  "nbformat_minor": 0,
  "metadata": {
    "colab": {
      "name": "Project 4:  Case 1 - Solving for a known trigonometric function using Singular Values or Best Fit.ipynb",
      "provenance": [],
      "authorship_tag": "ABX9TyNWFtWQGDJ6CDgDP6fO75YY",
      "include_colab_link": true
    },
    "kernelspec": {
      "name": "python3",
      "display_name": "Python 3"
    }
  },
  "cells": [
    {
      "cell_type": "markdown",
      "metadata": {
        "id": "view-in-github",
        "colab_type": "text"
      },
      "source": [
        "<a href=\"https://colab.research.google.com/github/awangberg/AdvLinearAlgebra/blob/master/Project_4_Case_1_Solving_for_a_known_trigonometric_function_using_Singular_Values_or_Best_Fit.ipynb\" target=\"_parent\"><img src=\"https://colab.research.google.com/assets/colab-badge.svg\" alt=\"Open In Colab\"/></a>"
      ]
    },
    {
      "cell_type": "code",
      "metadata": {
        "id": "RikUpdZwlBC1",
        "colab_type": "code",
        "colab": {}
      },
      "source": [
        "#  Libraries that we'll need:\n",
        "import numpy as np\n",
        "import sympy as sym\n",
        "from scipy import misc\n",
        "from scipy import linalg\n",
        "from PIL import Image\n",
        "import imageio\n",
        "import matplotlib.pyplot as plt\n",
        "# importing \"random\" for random operations \n",
        "import random "
      ],
      "execution_count": 0,
      "outputs": []
    },
    {
      "cell_type": "markdown",
      "metadata": {
        "id": "hZ4yDsfTlH6l",
        "colab_type": "text"
      },
      "source": [
        "#  Singular Value Decomposition and Best Fit\n",
        "\n",
        "We look at some data generated here from three sources:\n",
        "\n",
        "*   Case 0:  A known polynomial function f(x) = 4 - 3x^2 + 5x^6\n",
        "*   Case 1:  A known trigonometric function f(x) = 4 - 2*cos(x) + cos^2 (x)\n",
        "*   Case 2:  An unknown matrix of data M (specified below)\n",
        "*   Case 3:  An interesting case."
      ]
    },
    {
      "cell_type": "markdown",
      "metadata": {
        "id": "FNuhqe22lOzW",
        "colab_type": "text"
      },
      "source": [
        "#  Case 1:  \n",
        "We generate data for the polynomial function \n",
        "$$f(x) = 4 -3\\cos(x) + \\cos^2 (x)$$ \n",
        "We know two things: The input (x) and the output (f(x)) for that input.  Pretend we know the (x, f(x)) pairs for **a lot** of different points, say $3$ of them.\n",
        "\n",
        "We want to find out what combination of polynomials $1, x, x^2, x^3, x^4, x^5, x^6, x^7$ and $x^8$ best matches the data.  For each input/output pair $(x, f(x))$, we generate one row of data in the system $Ac = b$:\n",
        "\n",
        "$$ [  c_0 * 1 + c_1 * x + c_2 * x^2 + c_3 * x^3 + ... c_8 x^8 = f(x) ] $$\n",
        "\n",
        "or\n",
        "\n",
        "$$ \\left[ \\begin{array}{ccccccccc} 1 & x & x^2 & x^3 & x^4 & x^5 & x^6 & x^7 & x^8 \\end{array} \\right] \\left( \\begin{array}{c} c_0 \\\\ c_1 \\\\ c_2 \\\\ c_3 \\\\ c_4 \\\\ c_5 \\\\c_6 \\\\ c7 \\\\ c8 \\\\ \\end{array} \\right) = \\left[ f(x) \\right] $$\n",
        "\n",
        "\n",
        "Be careful -- the unknowns are the coefficients in front - the $c_0, c_1, c_2, ..., c_8$ values.  Since we know $x$, then we know $x, x^2, x^3, x^4, ... x^8$. And we know the output $f(x)$ for that row.\n",
        "\n",
        "So, if we know $x=2$ and $f(2) = 312$, then we populate the row as:\n",
        "\n",
        "$$ [  c_0*1  + c_1*2 + c_2*4 + c_3*8 + ... + c_8*256 = 312 ] $$\n",
        "\n",
        "or\n",
        "$$ \\left[ \\begin{array}{ccccccccc} 1 & 2 & 4 & 8 & 16 & x32 & 64 & 128 & 256\\end{array} \\right] \\left( \\begin{array}{c} c_0 \\\\ c_1 \\\\ c_2 \\\\ c_3 \\\\ c_4 \\\\ c_5 \\\\c_6 \\\\ c_6 \\\\ c_8 \\\\ \\end{array} \\right) = \\left[ 312 \\right] $$\n",
        "\n",
        "where the vector $\\vec{c}$ contains the unknowns $c_0, c_1, c_2, \\ldots c_8$\n",
        "\n",
        "So... let's generate the matrix:\n",
        "\n"
      ]
    },
    {
      "cell_type": "code",
      "metadata": {
        "id": "tHWtjePSlGz0",
        "colab_type": "code",
        "colab": {
          "base_uri": "https://localhost:8080/",
          "height": 72
        },
        "outputId": "2d803b65-127e-4a3a-fc4f-8e05fcbd32fa"
      },
      "source": [
        "#We'll generate random points of data for our system.\n",
        "#The actual points for the system will be stored in actual_data_x, actual_data_y\n",
        "#\n",
        "#We'll also set up a matrix system with augmented matrix M|b for using the system\n",
        "#of best-fit:\n",
        "\n",
        "best_fit_data = []\n",
        "output_data = []\n",
        "actual_data_x = []\n",
        "actual_data_y = []\n",
        "for i in range(3):\n",
        "    # pick a random number between -5 and 5\n",
        "    x = 4*np.pi*random.random() - 2*np.pi\n",
        "    f = 4 - 2*np.cos(x) + np.cos(x)**2\n",
        "    best_fit_data.append([1, x, x**2, x**3, x**4, x**5, x**6, x**7, x**8])\n",
        "    output_data.append([f])\n",
        "    actual_data_x.append(x)\n",
        "    actual_data_y.append(f)\n",
        "# Now, put the data into M and b:\n",
        "M = np.matrix(best_fit_data)\n",
        "b = np.matrix(output_data)\n",
        "#show the first five entries of b:\n",
        "b[:3]"
      ],
      "execution_count": 100,
      "outputs": [
        {
          "output_type": "execute_result",
          "data": {
            "text/plain": [
              "matrix([[6.51541974],\n",
              "        [3.00565832],\n",
              "        [5.92533857]])"
            ]
          },
          "metadata": {
            "tags": []
          },
          "execution_count": 100
        }
      ]
    },
    {
      "cell_type": "code",
      "metadata": {
        "id": "PGd38j_4qfm1",
        "colab_type": "code",
        "colab": {
          "base_uri": "https://localhost:8080/",
          "height": 295
        },
        "outputId": "5cfedd18-153d-42c9-8ac7-4cbe7d3f22eb"
      },
      "source": [
        "# We'll specify that x is a variable:\n",
        "x = sym.symbols('x')\n",
        "xdata = []\n",
        "xdata = np.array(range(100))/(100/(4*np.pi)) - 2*np.pi\n",
        "fdata = 4 - 2*np.cos(xdata) + np.cos(xdata)**2\n",
        "\n",
        "# Create the plot in red, and our datapoints in blue:  \n",
        "plt.plot(xdata,fdata, color='red') + plt.plot(actual_data_x, actual_data_y, 'bo')\n",
        "\n",
        "# Add a title\n",
        "plt.title('Our test data (in blue) compared to the actual data (in red)')\n",
        "\n",
        "# Add X and y Label\n",
        "plt.xlabel('x axis')\n",
        "plt.ylabel('output')\n",
        "\n",
        "# Add a grid\n",
        "plt.grid(alpha=.4,linestyle='--')\n"
      ],
      "execution_count": 101,
      "outputs": [
        {
          "output_type": "display_data",
          "data": {
            "image/png": "[encoded data removed]",
            "text/plain": [
              "<Figure size 432x288 with 1 Axes>"
            ]
          },
          "metadata": {
            "tags": [],
            "needs_background": "light"
          }
        }
      ]
    },
    {
      "cell_type": "code",
      "metadata": {
        "id": "Os9TvUT5qiQO",
        "colab_type": "code",
        "colab": {
          "base_uri": "https://localhost:8080/",
          "height": 183
        },
        "outputId": "6f1ad33b-d0f7-420c-95a4-a18d1d58339d"
      },
      "source": [
        "#  Find the best-fit line using any of the two methods that work from last class period:\n",
        "#\n",
        "#  Method 1:  M c = b  leads to    c = (M^T M)^(-1) M^T  b\n",
        "c = linalg.inv(M.transpose() * M) * M.transpose() * b\n",
        "c\n"
      ],
      "execution_count": 102,
      "outputs": [
        {
          "output_type": "execute_result",
          "data": {
            "text/plain": [
              "matrix([[ 2.85711173e+00],\n",
              "        [-1.02084841e+00],\n",
              "        [-4.48627617e-02],\n",
              "        [ 2.54294662e-02],\n",
              "        [-2.37319344e-03],\n",
              "        [-4.07849139e-04],\n",
              "        [ 2.22023212e-05],\n",
              "        [ 5.32805448e-06],\n",
              "        [ 3.54584145e-07]])"
            ]
          },
          "metadata": {
            "tags": []
          },
          "execution_count": 102
        }
      ]
    },
    {
      "cell_type": "code",
      "metadata": {
        "id": "cyHQjzItqlNn",
        "colab_type": "code",
        "colab": {
          "base_uri": "https://localhost:8080/",
          "height": 35
        },
        "outputId": "d2892756-a372-4a05-91c0-b4755d44aa02"
      },
      "source": [
        "#  Let's see how close this actually gets us by comparing the original b vector to the result of Mc:\n",
        "\"b is in the left column, M*c is in the middle column, and the right column gives b - M*c\"\n",
        "#We make a matrix, whose columns are [  b,  M*c,  b - M*c ]\n",
        "#Then, we find the magnitude of these vectors.  If b-M*c is close to zero, we have a really good fit:\n",
        "[((b.transpose()*b)[0,0])**0.5,  (((M*c).transpose() * (M*c))[0,0])**0.5,  (((b-M*c).transpose() * (b-M*c))[0,0])**0.5 ]"
      ],
      "execution_count": 103,
      "outputs": [
        {
          "output_type": "execute_result",
          "data": {
            "text/plain": [
              "[9.305606562708377, 7.007793373301377, 5.977406842880787]"
            ]
          },
          "metadata": {
            "tags": []
          },
          "execution_count": 103
        }
      ]
    },
    {
      "cell_type": "code",
      "metadata": {
        "id": "MCh6XRCXqnu2",
        "colab_type": "code",
        "colab": {}
      },
      "source": [
        "#  Method 2:  use singular value decomposition.\n",
        "#\n",
        "#  For this method, we use SVD on the data matrix M:\n",
        "U, S, Vh = linalg.svd(M, full_matrices=True)"
      ],
      "execution_count": 0,
      "outputs": []
    },
    {
      "cell_type": "code",
      "metadata": {
        "id": "_Or_krPzqqr7",
        "colab_type": "code",
        "colab": {
          "base_uri": "https://localhost:8080/",
          "height": 72
        },
        "outputId": "fa49d391-6870-4e4c-9205-3f13be133cad"
      },
      "source": [
        "#  Show the matrix U:\n",
        "U\n"
      ],
      "execution_count": 105,
      "outputs": [
        {
          "output_type": "execute_result",
          "data": {
            "text/plain": [
              "array([[-1.99738074e-02,  9.98915533e-01, -4.20571691e-02],\n",
              "       [-9.99800323e-01, -1.99814189e-02,  2.39422184e-04],\n",
              "       [-6.01199374e-04,  4.20535534e-02,  9.99115177e-01]])"
            ]
          },
          "metadata": {
            "tags": []
          },
          "execution_count": 105
        }
      ]
    },
    {
      "cell_type": "code",
      "metadata": {
        "id": "QnBVFCzRqt7V",
        "colab_type": "code",
        "colab": {
          "base_uri": "https://localhost:8080/",
          "height": 35
        },
        "outputId": "48c5f8e5-3f9f-4447-ba5d-c73597094aa7"
      },
      "source": [
        "#Show the matrix S:  (but notice only the singular values are stored, not the entire matrix)\n",
        "S"
      ],
      "execution_count": 106,
      "outputs": [
        {
          "output_type": "execute_result",
          "data": {
            "text/plain": [
              "array([1.47580751e+06, 1.38147446e+04, 9.95620053e+01])"
            ]
          },
          "metadata": {
            "tags": []
          },
          "execution_count": 106
        }
      ]
    },
    {
      "cell_type": "code",
      "metadata": {
        "id": "Sp9VexSBqvsZ",
        "colab_type": "code",
        "colab": {
          "base_uri": "https://localhost:8080/",
          "height": 516
        },
        "outputId": "3a2c3f21-ca4c-4d26-baad-805d22c66cf6"
      },
      "source": [
        "#Show the matrix Vh:\n",
        "Vh"
      ],
      "execution_count": 107,
      "outputs": [
        {
          "output_type": "execute_result",
          "data": {
            "text/plain": [
              "array([[-6.91401367e-07, -3.94184165e-06, -2.37074744e-05,\n",
              "        -1.37968279e-04, -8.19332758e-04, -4.80525063e-03,\n",
              "        -2.84001352e-02, -1.67053073e-01, -9.85526723e-01],\n",
              "       [ 7.39056492e-05, -2.79421657e-04,  9.28513954e-04,\n",
              "        -3.84368533e-03,  1.11430641e-02, -5.71568418e-02,\n",
              "         1.10116801e-01, -9.78723465e-01,  1.62996557e-01],\n",
              "       [ 9.61508788e-03, -2.21361937e-02,  5.03946754e-02,\n",
              "        -1.11055906e-01,  2.39885754e-01, -4.46262626e-01,\n",
              "         8.43995870e-01,  1.17214275e-01, -4.21992982e-02],\n",
              "       [ 2.46286119e-03, -5.76140453e-03,  1.10970796e-01,\n",
              "         9.88253378e-01,  2.53837120e-02, -4.73589456e-02,\n",
              "         8.95700774e-02,  8.69447030e-03, -3.98611600e-03],\n",
              "       [-7.53549652e-03,  1.45424829e-02, -2.39637639e-01,\n",
              "         2.53768257e-02,  9.45152964e-01,  1.02425596e-01,\n",
              "        -1.93765369e-01, -1.61801217e-02,  7.04339516e-03],\n",
              "       [ 2.37212397e-02, -6.27109813e-02,  4.44962358e-01,\n",
              "        -4.72562921e-02,  1.02231529e-01,  8.07719719e-01,\n",
              "         3.63584853e-01, -6.69832336e-03, -1.33692357e-02],\n",
              "       [-7.96710635e-02,  1.04537482e-01, -8.41516738e-01,\n",
              "         8.93737615e-02, -1.93393651e-01,  3.63576197e-01,\n",
              "         3.11100451e-01,  8.38545720e-03, -1.19910191e-02],\n",
              "       [ 2.62405802e-01, -9.54418021e-01, -1.39749381e-01,\n",
              "         1.11180966e-02, -2.14226058e-02,  3.14915758e-03,\n",
              "        -1.02426725e-02, -1.37488364e-03,  5.36110749e-04],\n",
              "       [-9.61289610e-01, -2.71091723e-01,  4.52436556e-02,\n",
              "        -4.31651369e-03,  7.75956249e-03, -1.47339297e-02,\n",
              "        -9.40901437e-03,  1.08168431e-05,  3.35971632e-04]])"
            ]
          },
          "metadata": {
            "tags": []
          },
          "execution_count": 107
        }
      ]
    },
    {
      "cell_type": "code",
      "metadata": {
        "id": "V1_j9EPbqxHg",
        "colab_type": "code",
        "colab": {
          "base_uri": "https://localhost:8080/",
          "height": 35
        },
        "outputId": "eb757af9-fda5-48dd-d15b-2c625fb85cf9"
      },
      "source": [
        "#  The 2nd singular value is:\n",
        "S[1]"
      ],
      "execution_count": 108,
      "outputs": [
        {
          "output_type": "execute_result",
          "data": {
            "text/plain": [
              "13814.744591275301"
            ]
          },
          "metadata": {
            "tags": []
          },
          "execution_count": 108
        }
      ]
    },
    {
      "cell_type": "code",
      "metadata": {
        "id": "7XoANhuXqzbi",
        "colab_type": "code",
        "colab": {
          "base_uri": "https://localhost:8080/",
          "height": 35
        },
        "outputId": "2bc9882a-1b97-4463-eb5f-81bf2b0f7aa0"
      },
      "source": [
        "# We can also compare the matrix reconstructed from the SVD and the original matrix M:\n",
        "\n",
        "#First, recast S as a matrix instead of a vector:\n",
        "sigma = np.zeros((U.shape[1], Vh.shape[0]))\n",
        "for i in range(min(sigma.shape)):\n",
        "     sigma[i, i] = S[i]\n",
        "a1 = np.dot(U, np.dot(sigma, Vh))\n",
        "#does a1 approximate M?\n",
        "np.allclose(M, a1)"
      ],
      "execution_count": 109,
      "outputs": [
        {
          "output_type": "execute_result",
          "data": {
            "text/plain": [
              "True"
            ]
          },
          "metadata": {
            "tags": []
          },
          "execution_count": 109
        }
      ]
    },
    {
      "cell_type": "code",
      "metadata": {
        "id": "MD8yFnR-q1U8",
        "colab_type": "code",
        "colab": {}
      },
      "source": [
        "#  If there are 3 non-zero singular values, we'll use the upper (3x3) submatrix of sigma and the\n",
        "#  correspondingly sized submatrices for U and Vh.\n",
        "#  We'll have to divide each of U, sigma, and Vh into matrices we want to use (U_use, Sigma_use, and Vh_use)\n",
        "#  and the remaining blocks along the diagonal which we'll want to discard (U_d, Sigma_d, Vh_d)\n",
        "useSigs = 3\n",
        "(Vrows, Vcols) = Vh.shape\n",
        "(Urows, Ucols) = U.shape\n",
        "U_use = U[:Urows, :useSigs]\n",
        "Vh_use = Vh[:Vrows, :useSigs]\n",
        "sigma_use = sigma[:useSigs, :useSigs]\n",
        "\n",
        "U_d = U[:Urows, useSigs:]\n",
        "Vh_d = Vh[:Vrows, useSigs:]\n",
        "sigma_d = sigma[useSigs:, useSigs:]"
      ],
      "execution_count": 0,
      "outputs": []
    },
    {
      "cell_type": "code",
      "metadata": {
        "id": "k5xb86Grq3V9",
        "colab_type": "code",
        "colab": {
          "base_uri": "https://localhost:8080/",
          "height": 35
        },
        "outputId": "a8803323-20db-46f2-ffc5-066b282d9b0a"
      },
      "source": [
        "#  We should be able to figure out the size of U and Vh that we'll use:\n",
        "#\n",
        "#  U S Vh  =   [         .     ] [             .         ]  [            .      ]\n",
        "#              [ U_use   .     ] [  sigma_use  .         ]  [   Vh_use   .      ]\n",
        "#              [         . U_d ] [.......................]  [            . Vh_d ]\n",
        "#              [         .     ] [             . sigma_d ]  [            .      ]\n",
        "#\n",
        "#\n",
        "#  Check that U_use, sigma_use, and Vh_use are the right sizes, as well as U_d, sigma_d, and Vh_d\n",
        "U_use.shape\n",
        "#sigma_use.shape\n",
        "#Vh_use.shape\n",
        "#U_d.shape\n",
        "#sigma_d.shape\n",
        "#Vh_d.shape"
      ],
      "execution_count": 111,
      "outputs": [
        {
          "output_type": "execute_result",
          "data": {
            "text/plain": [
              "(3, 3)"
            ]
          },
          "metadata": {
            "tags": []
          },
          "execution_count": 111
        }
      ]
    },
    {
      "cell_type": "code",
      "metadata": {
        "id": "dYi5SpNJq5WP",
        "colab_type": "code",
        "colab": {
          "base_uri": "https://localhost:8080/",
          "height": 183
        },
        "outputId": "ea7bee42-3590-4601-849a-8718e5b30d24"
      },
      "source": [
        "#  If we use Singular Value Decomposition to break down A as a product of matrices\n",
        "#  A = U sigma Vh.conjugate_transpose()\n",
        "#  Then the part of A which corresponds to non-zero singular values is:\n",
        "#  A_use = U_use sigma_use Vh_use.conjugate_transpose()\n",
        "#\n",
        "#  So, the equation Ax = b becomes:  (U_use sigma_use Vh_use.conjugate_transpose()) x = b\n",
        "#  or\n",
        "#  svd_sol = (U_use sigma_use Vh_use.conjugate_transpose()).inverse() b\n",
        "#  or\n",
        "#  svd_sol = Vh_use * Sigma_use.inverse() * U_use.transpose() * b\n",
        "#  (since Vh_use.conjugate_transpose() = Vh_use.inverse() and U_use.transpose() = U_use.inverse() )\n",
        "svd_sol = (Vh_use @ linalg.inv(sigma_use) @ U_use.transpose()) @ b\n",
        "svd_sol"
      ],
      "execution_count": 112,
      "outputs": [
        {
          "output_type": "execute_result",
          "data": {
            "text/plain": [
              "matrix([[-1.34651137e-06],\n",
              "        [ 5.25263153e-05],\n",
              "        [ 2.84745067e-03],\n",
              "        [ 6.29106196e-03],\n",
              "        [-1.35843099e-02],\n",
              "        [ 2.52061951e-02],\n",
              "        [-4.76769221e-02],\n",
              "        [-8.38934329e-03],\n",
              "        [ 2.43667321e-03]])"
            ]
          },
          "metadata": {
            "tags": []
          },
          "execution_count": 112
        }
      ]
    },
    {
      "cell_type": "code",
      "metadata": {
        "id": "LX49XLRwq9Ys",
        "colab_type": "code",
        "colab": {
          "base_uri": "https://localhost:8080/",
          "height": 295
        },
        "outputId": "bf621e4a-aa84-47ff-a10a-3bcc60fecc71"
      },
      "source": [
        "#Show a plot of the solutions using the best-fit method, and the SVD method:\n",
        "\n",
        "# We'll specify that x is a variable:\n",
        "x = sym.symbols('x')\n",
        "xdata = []\n",
        "xdata = np.array(range(100))/(100/(4*np.pi)) - 2*np.pi\n",
        "fdata = 4 - 2*np.cos(xdata) + np.cos(xdata)**2\n",
        "svd_fit = svd_sol[0,0] + svd_sol[1,0]*xdata + svd_sol[2,0]*(xdata**2) + svd_sol[3,0]*(xdata**3) + svd_sol[4,0]*(xdata**4) + svd_sol[5,0]*(xdata**5) + svd_sol[6,0]*(xdata**6) + svd_sol[7,0]*(xdata**7)+svd_sol[8,0]*(xdata**8)\n",
        "best_fit = c[0,0] + c[1,0]*xdata + c[2,0]*(xdata**2) + c[3,0]*(xdata**3) + c[4,0]*(xdata**4) + c[5,0]*(xdata**5) + c[6,0]*(xdata**6) + c[7,0]*(xdata**7) + c[8,0]*(xdata**8)\n",
        "# Create the actual plot in red, and our datapoints in blue,\n",
        "# the best-fit method in green, and the svd solution in aqua:  \n",
        "plt.plot(xdata,fdata, color='red') + plt.plot(actual_data_x, actual_data_y, 'bo')+plt.plot(xdata,best_fit, color='green') + plt.plot(xdata, svd_fit, 'aqua')\n",
        "\n",
        "#Restrict the output values to this range:\n",
        "plt.ylim(-30,30)\n",
        "# Add a title\n",
        "plt.title('Our test data (blue) for the original function (red); best-fit solution (green)  and svd solution (aqua)')\n",
        "\n",
        "# Add X and y Label\n",
        "plt.xlabel('x axis')\n",
        "plt.ylabel('output')\n",
        "\n",
        "# Add a grid\n",
        "plt.grid(alpha=.4,linestyle='--')\n"
      ],
      "execution_count": 113,
      "outputs": [
        {
          "output_type": "display_data",
          "data": {
            "image/png": "[encoded data removed]",
            "text/plain": [
              "<Figure size 432x288 with 1 Axes>"
            ]
          },
          "metadata": {
            "tags": [],
            "needs_background": "light"
          }
        }
      ]
    },
    {
      "cell_type": "code",
      "metadata": {
        "id": "TWj-yO5wq7F9",
        "colab_type": "code",
        "colab": {}
      },
      "source": [
        ""
      ],
      "execution_count": 0,
      "outputs": []
    }
  ]
}