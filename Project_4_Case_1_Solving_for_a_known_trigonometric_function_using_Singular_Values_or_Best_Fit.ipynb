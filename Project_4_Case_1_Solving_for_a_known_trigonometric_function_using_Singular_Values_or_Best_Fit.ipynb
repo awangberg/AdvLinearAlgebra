{
  "nbformat": 4,
  "nbformat_minor": 0,
  "metadata": {
    "colab": {
      "name": "Project 4:  Case 1 - Solving for a known trigonometric function using Singular Values or Best Fit.ipynb",
      "provenance": [],
      "authorship_tag": "ABX9TyNyNx5OIagJFo0K34SUJOcA",
      "include_colab_link": true
    },
    "kernelspec": {
      "name": "python3",
      "display_name": "Python 3"
    }
  },
  "cells": [
    {
      "cell_type": "markdown",
      "metadata": {
        "id": "view-in-github",
        "colab_type": "text"
      },
      "source": [
        "<a href=\"https://colab.research.google.com/github/awangberg/AdvLinearAlgebra/blob/master/Project_4_Case_1_Solving_for_a_known_trigonometric_function_using_Singular_Values_or_Best_Fit.ipynb\" target=\"_parent\"><img src=\"https://colab.research.google.com/assets/colab-badge.svg\" alt=\"Open In Colab\"/></a>"
      ]
    },
    {
      "cell_type": "code",
      "metadata": {
        "id": "RikUpdZwlBC1",
        "colab_type": "code",
        "colab": {}
      },
      "source": [
        "#  Libraries that we'll need:\n",
        "import numpy as np\n",
        "import sympy as sym\n",
        "from scipy import misc\n",
        "from scipy import linalg\n",
        "from PIL import Image\n",
        "import imageio\n",
        "import matplotlib.pyplot as plt\n",
        "# importing \"random\" for random operations \n",
        "import random "
      ],
      "execution_count": 0,
      "outputs": []
    },
    {
      "cell_type": "markdown",
      "metadata": {
        "id": "hZ4yDsfTlH6l",
        "colab_type": "text"
      },
      "source": [
        "#  Singular Value Decomposition and Best Fit\n",
        "\n",
        "We look at some data generated here from three sources:\n",
        "\n",
        "*   Case 0:  A known polynomial function f(x) = 4 - 3x^2 + 5x^6\n",
        "*   Case 1:  A known trigonometric function f(x) = 4 - 2*cos(x) + cos^2 (x)\n",
        "*   Case 2:  An unknown matrix of data M (specified below)\n",
        "*   Case 3:  An interesting case."
      ]
    },
    {
      "cell_type": "markdown",
      "metadata": {
        "id": "FNuhqe22lOzW",
        "colab_type": "text"
      },
      "source": [
        "#  Case 1:  \n",
        "We generate data for the polynomial function \n",
        "$$f(x) = 4 -3\\cos(x) + \\cos^2 (x)$$ \n",
        "We know two things: The input (x) and the output (f(x)) for that input.  Pretend we know the (x, f(x)) pairs for **a lot** of different points, say $3$ of them.\n",
        "\n",
        "We want to find out what combination of polynomials $1, x, x^2, x^3, x^4, x^5, x^6, x^7$ and $x^8$ best matches the data.  For each input/output pair $(x, f(x))$, we generate one row of data in the system $Ac = b$:\n",
        "\n",
        "$$ [  c_0 * 1 + c_1 * x + c_2 * x^2 + c_3 * x^3 + ... c_8 x^8 = f(x) ] $$\n",
        "\n",
        "or\n",
        "\n",
        "$$ \\left[ \\begin{array}{ccccccccc} 1 & x & x^2 & x^3 & x^4 & x^5 & x^6 & x^7 & x^8 \\end{array} \\right] \\left( \\begin{array}{c} c_0 \\\\ c_1 \\\\ c_2 \\\\ c_3 \\\\ c_4 \\\\ c_5 \\\\c_6 \\\\ c7 \\\\ c8 \\\\ \\end{array} \\right) = \\left[ f(x) \\right] $$\n",
        "\n",
        "\n",
        "Be careful -- the unknowns are the coefficients in front - the $c_0, c_1, c_2, ..., c_8$ values.  Since we know $x$, then we know $x, x^2, x^3, x^4, ... x^8$. And we know the output $f(x)$ for that row.\n",
        "\n",
        "So, if we know $x=2$ and $f(2) = 312$, then we populate the row as:\n",
        "\n",
        "$$ [  c_0*1  + c_1*2 + c_2*4 + c_3*8 + ... + c_8*256 = 312 ] $$\n",
        "\n",
        "or\n",
        "$$ \\left[ \\begin{array}{ccccccccc} 1 & 2 & 4 & 8 & 16 & x32 & 64 & 128 & 256\\end{array} \\right] \\left( \\begin{array}{c} c_0 \\\\ c_1 \\\\ c_2 \\\\ c_3 \\\\ c_4 \\\\ c_5 \\\\c_6 \\\\ c_6 \\\\ c_8 \\\\ \\end{array} \\right) = \\left[ 312 \\right] $$\n",
        "\n",
        "where the vector $\\vec{c}$ contains the unknowns $c_0, c_1, c_2, \\ldots c_8$\n",
        "\n",
        "So... let's generate the matrix:\n",
        "\n"
      ]
    },
    {
      "cell_type": "code",
      "metadata": {
        "id": "tHWtjePSlGz0",
        "colab_type": "code",
        "colab": {
          "base_uri": "https://localhost:8080/",
          "height": 72
        },
        "outputId": "fcd61801-5560-4d88-eff7-a9964ddd7fdd"
      },
      "source": [
        "#We'll generate random points of data for our system.\n",
        "#The actual points for the system will be stored in actual_data_x, actual_data_y\n",
        "#\n",
        "#We'll also set up a matrix system with augmented matrix M|b for using the system\n",
        "#of best-fit:\n",
        "\n",
        "best_fit_data = []\n",
        "output_data = []\n",
        "actual_data_x = []\n",
        "actual_data_y = []\n",
        "for i in range(3):\n",
        "    # pick a random number between -5 and 5\n",
        "    x = 4*np.pi*random.random() - 2*np.pi\n",
        "    f = 4 - 2*np.cos(x) + np.cos(x)**2\n",
        "    best_fit_data.append([1, x, x**2, x**3, x**4, x**5, x**6, x**7, x**8])\n",
        "    output_data.append([f])\n",
        "    actual_data_x.append(x)\n",
        "    actual_data_y.append(f)\n",
        "# Now, put the data into M and b:\n",
        "M = np.matrix(best_fit_data)\n",
        "b = np.matrix(output_data)\n",
        "#show the first five entries of b:\n",
        "b[:3]"
      ],
      "execution_count": 3,
      "outputs": [
        {
          "output_type": "execute_result",
          "data": {
            "text/plain": [
              "matrix([[6.76190903],\n",
              "        [3.0001101 ],\n",
              "        [6.90657307]])"
            ]
          },
          "metadata": {
            "tags": []
          },
          "execution_count": 3
        }
      ]
    },
    {
      "cell_type": "code",
      "metadata": {
        "id": "PGd38j_4qfm1",
        "colab_type": "code",
        "colab": {
          "base_uri": "https://localhost:8080/",
          "height": 295
        },
        "outputId": "e1a33f4c-97c7-4924-a0e0-e6cbfe8df56e"
      },
      "source": [
        "# We'll specify that x is a variable:\n",
        "x = sym.symbols('x')\n",
        "xdata = []\n",
        "xdata = np.array(range(100))/(100/(4*np.pi)) - 2*np.pi\n",
        "fdata = 4 - 2*np.cos(xdata) + np.cos(xdata)**2\n",
        "\n",
        "# Create the plot in red, and our datapoints in blue:  \n",
        "plt.plot(xdata,fdata, color='red') + plt.plot(actual_data_x, actual_data_y, 'bo')\n",
        "\n",
        "# Add a title\n",
        "plt.title('Our test data (in blue) compared to the actual data (in red)')\n",
        "\n",
        "# Add X and y Label\n",
        "plt.xlabel('x axis')\n",
        "plt.ylabel('output')\n",
        "\n",
        "# Add a grid\n",
        "plt.grid(alpha=.4,linestyle='--')\n"
      ],
      "execution_count": 4,
      "outputs": [
        {
          "output_type": "display_data",
          "data": {
            "image/png": "[encoded data removed]",
            "text/plain": [
              "<Figure size 432x288 with 1 Axes>"
            ]
          },
          "metadata": {
            "tags": [],
            "needs_background": "light"
          }
        }
      ]
    },
    {
      "cell_type": "code",
      "metadata": {
        "id": "Os9TvUT5qiQO",
        "colab_type": "code",
        "colab": {
          "base_uri": "https://localhost:8080/",
          "height": 183
        },
        "outputId": "2ef24afd-b7de-455f-9331-aff5fd341cb8"
      },
      "source": [
        "#  Find the best-fit line using any of the two methods that work from last class period:\n",
        "#\n",
        "#  Method 1:  M c = b  leads to    c = (M^T M)^(-1) M^T  b\n",
        "c = linalg.inv(M.transpose() * M) * M.transpose() * b\n",
        "c\n"
      ],
      "execution_count": 5,
      "outputs": [
        {
          "output_type": "execute_result",
          "data": {
            "text/plain": [
              "matrix([[ 3.60408995e+00],\n",
              "        [-1.34353882e+00],\n",
              "        [ 1.46380485e+00],\n",
              "        [-1.05841203e-01],\n",
              "        [-2.50044540e-03],\n",
              "        [-1.34558575e-03],\n",
              "        [ 8.55837920e-04],\n",
              "        [ 1.45255049e-03],\n",
              "        [ 1.28293904e-04]])"
            ]
          },
          "metadata": {
            "tags": []
          },
          "execution_count": 5
        }
      ]
    },
    {
      "cell_type": "code",
      "metadata": {
        "id": "cyHQjzItqlNn",
        "colab_type": "code",
        "colab": {
          "base_uri": "https://localhost:8080/",
          "height": 35
        },
        "outputId": "e47a3968-047c-463e-f21f-e6d115288fb8"
      },
      "source": [
        "#  Let's see how close this actually gets us by comparing the original b vector to the result of Mc:\n",
        "\"b is in the left column, M*c is in the middle column, and the right column gives b - M*c\"\n",
        "#We make a matrix, whose columns are [  b,  M*c,  b - M*c ]\n",
        "#Then, we find the magnitude of these vectors.  If b-M*c is close to zero, we have a really good fit:\n",
        "[((b.transpose()*b)[0,0])**0.5,  (((M*c).transpose() * (M*c))[0,0])**0.5,  (((b-M*c).transpose() * (b-M*c))[0,0])**0.5 ]"
      ],
      "execution_count": 6,
      "outputs": [
        {
          "output_type": "execute_result",
          "data": {
            "text/plain": [
              "[10.120515098194703, 32.871190520634784, 23.077150883162243]"
            ]
          },
          "metadata": {
            "tags": []
          },
          "execution_count": 6
        }
      ]
    },
    {
      "cell_type": "code",
      "metadata": {
        "id": "MCh6XRCXqnu2",
        "colab_type": "code",
        "colab": {}
      },
      "source": [
        "#  Method 2:  use singular value decomposition.\n",
        "#\n",
        "#  For this method, we use SVD on the data matrix M:\n",
        "U, S, Vh = linalg.svd(M, full_matrices=True)"
      ],
      "execution_count": 0,
      "outputs": []
    },
    {
      "cell_type": "code",
      "metadata": {
        "id": "_Or_krPzqqr7",
        "colab_type": "code",
        "colab": {
          "base_uri": "https://localhost:8080/",
          "height": 72
        },
        "outputId": "ee23b2fd-6f2b-46ce-f408-07040aa66c37"
      },
      "source": [
        "#  Show the matrix U:\n",
        "U\n"
      ],
      "execution_count": 8,
      "outputs": [
        {
          "output_type": "execute_result",
          "data": {
            "text/plain": [
              "array([[-9.79300793e-01,  2.02410369e-01, -1.78408351e-09],\n",
              "       [-3.83933222e-09, -2.73896277e-08, -1.00000000e+00],\n",
              "       [-2.02410369e-01, -9.79300793e-01,  2.75998045e-08]])"
            ]
          },
          "metadata": {
            "tags": []
          },
          "execution_count": 8
        }
      ]
    },
    {
      "cell_type": "code",
      "metadata": {
        "id": "QnBVFCzRqt7V",
        "colab_type": "code",
        "colab": {
          "base_uri": "https://localhost:8080/",
          "height": 35
        },
        "outputId": "0549d42c-7085-44b1-bdfa-185f823ff817"
      },
      "source": [
        "#Show the matrix S:  (but notice only the singular values are stored, not the entire matrix)\n",
        "S"
      ],
      "execution_count": 9,
      "outputs": [
        {
          "output_type": "execute_result",
          "data": {
            "text/plain": [
              "array([2.35037187e+04, 3.19176540e+03, 1.01067984e+00])"
            ]
          },
          "metadata": {
            "tags": []
          },
          "execution_count": 9
        }
      ]
    },
    {
      "cell_type": "code",
      "metadata": {
        "id": "Sp9VexSBqvsZ",
        "colab_type": "code",
        "colab": {
          "base_uri": "https://localhost:8080/",
          "height": 516
        },
        "outputId": "3298d986-3ed5-4745-da5e-0aa548256abb"
      },
      "source": [
        "#Show the matrix Vh:\n",
        "Vh"
      ],
      "execution_count": 10,
      "outputs": [
        {
          "output_type": "execute_result",
          "data": {
            "text/plain": [
              "array([[-5.02776255e-05, -1.20272218e-04, -5.81443390e-04,\n",
              "        -1.55734702e-03, -6.81850369e-03, -1.97628379e-02,\n",
              "        -8.08096071e-02, -2.47551888e-01, -9.65270961e-01],\n",
              "       [-2.43404622e-04,  1.11865498e-03, -1.85108456e-03,\n",
              "         1.03716361e-02, -1.30210568e-02,  9.85075000e-02,\n",
              "        -7.71159568e-02,  9.61982335e-01, -2.42193171e-01],\n",
              "       [-9.89432992e-01, -1.43458724e-01, -2.07999639e-02,\n",
              "        -3.01659124e-03, -4.35532842e-04, -7.01559306e-05,\n",
              "         4.69303956e-06, -6.24391862e-05,  1.06940107e-04],\n",
              "       [-3.05990776e-03, -1.40855489e-03,  1.02966535e-02,\n",
              "         9.99886515e-01,  1.23599028e-04, -1.05069193e-03,\n",
              "         6.71969600e-04, -1.03451262e-02,  9.98415906e-04],\n",
              "       [-1.07003673e-03,  6.22718860e-03, -1.30904486e-02,\n",
              "         1.40505084e-04,  9.99786794e-01,  1.14528917e-03,\n",
              "        -1.55209444e-03,  1.08094294e-02, -9.72106032e-03],\n",
              "       [-5.04518243e-03,  2.01253746e-02,  9.82939487e-02,\n",
              "        -9.97570241e-04,  1.15320266e-03,  9.89921134e-01,\n",
              "         5.98271262e-03, -9.95182732e-02,  4.68593409e-03],\n",
              "       [-9.89718792e-03,  7.94695770e-02, -7.78596651e-02,\n",
              "         8.80980284e-04, -1.52143805e-03,  5.98120520e-03,\n",
              "         9.87544731e-01,  5.39602543e-02, -9.65884827e-02],\n",
              "       [-5.65518191e-02,  2.51144980e-01,  9.59393172e-01,\n",
              "        -9.68344940e-03,  1.09113853e-02, -9.95076321e-02,\n",
              "         5.40208986e-02,  1.45770080e-02, -6.89126125e-03],\n",
              "       [-1.33004765e-01,  9.53720777e-01, -2.51251129e-01,\n",
              "         3.50730455e-03, -9.34976177e-03,  4.67824095e-03,\n",
              "        -9.65475578e-02, -7.48965529e-03,  1.00075028e-02]])"
            ]
          },
          "metadata": {
            "tags": []
          },
          "execution_count": 10
        }
      ]
    },
    {
      "cell_type": "code",
      "metadata": {
        "id": "V1_j9EPbqxHg",
        "colab_type": "code",
        "colab": {
          "base_uri": "https://localhost:8080/",
          "height": 35
        },
        "outputId": "208b2159-c408-414a-be3d-335d4b878214"
      },
      "source": [
        "#  The 2nd singular value is:\n",
        "S[1]"
      ],
      "execution_count": 11,
      "outputs": [
        {
          "output_type": "execute_result",
          "data": {
            "text/plain": [
              "3191.765398127791"
            ]
          },
          "metadata": {
            "tags": []
          },
          "execution_count": 11
        }
      ]
    },
    {
      "cell_type": "code",
      "metadata": {
        "id": "7XoANhuXqzbi",
        "colab_type": "code",
        "colab": {
          "base_uri": "https://localhost:8080/",
          "height": 35
        },
        "outputId": "a63b0a72-c45c-48f2-fd65-5166ad54f413"
      },
      "source": [
        "# We can also compare the matrix reconstructed from the SVD and the original matrix M:\n",
        "\n",
        "#First, recast S as a matrix instead of a vector:\n",
        "sigma = np.zeros((U.shape[1], Vh.shape[0]))\n",
        "for i in range(min(sigma.shape)):\n",
        "     sigma[i, i] = S[i]\n",
        "a1 = np.dot(U, np.dot(sigma, Vh))\n",
        "#does a1 approximate M?\n",
        "np.allclose(M, a1)"
      ],
      "execution_count": 12,
      "outputs": [
        {
          "output_type": "execute_result",
          "data": {
            "text/plain": [
              "True"
            ]
          },
          "metadata": {
            "tags": []
          },
          "execution_count": 12
        }
      ]
    },
    {
      "cell_type": "code",
      "metadata": {
        "id": "MD8yFnR-q1U8",
        "colab_type": "code",
        "colab": {}
      },
      "source": [
        "#  If there are 3 non-zero singular values, we'll use the upper (3x3) submatrix of sigma and the\n",
        "#  correspondingly sized submatrices for U and Vh.\n",
        "#  We'll have to divide each of U, sigma, and Vh into matrices we want to use (U_use, Sigma_use, and Vh_use)\n",
        "#  and the remaining blocks along the diagonal which we'll want to discard (U_d, Sigma_d, Vh_d)\n",
        "useSigs = 3\n",
        "(Vrows, Vcols) = Vh.shape\n",
        "(Urows, Ucols) = U.shape\n",
        "U_use = U[:Urows, :useSigs]\n",
        "Vh_use = Vh[:Vrows, :useSigs]\n",
        "sigma_use = sigma[:useSigs, :useSigs]\n",
        "\n",
        "U_d = U[:Urows, useSigs:]\n",
        "Vh_d = Vh[:Vrows, useSigs:]\n",
        "sigma_d = sigma[useSigs:, useSigs:]"
      ],
      "execution_count": 0,
      "outputs": []
    },
    {
      "cell_type": "code",
      "metadata": {
        "id": "k5xb86Grq3V9",
        "colab_type": "code",
        "colab": {
          "base_uri": "https://localhost:8080/",
          "height": 35
        },
        "outputId": "eead62e9-19b7-454b-cd66-55862079cd4b"
      },
      "source": [
        "#  We should be able to figure out the size of U and Vh that we'll use:\n",
        "#\n",
        "#  U S Vh  =   [         .     ] [             .         ]  [            .      ]\n",
        "#              [ U_use   .     ] [  sigma_use  .         ]  [   Vh_use   .      ]\n",
        "#              [         . U_d ] [.......................]  [            . Vh_d ]\n",
        "#              [         .     ] [             . sigma_d ]  [            .      ]\n",
        "#\n",
        "#\n",
        "#  Check that U_use, sigma_use, and Vh_use are the right sizes, as well as U_d, sigma_d, and Vh_d\n",
        "U_use.shape\n",
        "#sigma_use.shape\n",
        "#Vh_use.shape\n",
        "#U_d.shape\n",
        "#sigma_d.shape\n",
        "#Vh_d.shape"
      ],
      "execution_count": 14,
      "outputs": [
        {
          "output_type": "execute_result",
          "data": {
            "text/plain": [
              "(3, 3)"
            ]
          },
          "metadata": {
            "tags": []
          },
          "execution_count": 14
        }
      ]
    },
    {
      "cell_type": "code",
      "metadata": {
        "id": "dYi5SpNJq5WP",
        "colab_type": "code",
        "colab": {
          "base_uri": "https://localhost:8080/",
          "height": 183
        },
        "outputId": "c2f39e89-332a-4f4e-cb49-46fcb5a59e46"
      },
      "source": [
        "#  If we use Singular Value Decomposition to break down A as a product of matrices\n",
        "#  A = U sigma Vh.conjugate_transpose()\n",
        "#  Then the part of A which corresponds to non-zero singular values is:\n",
        "#  A_use = U_use sigma_use Vh_use.conjugate_transpose()\n",
        "#\n",
        "#  So, the equation Ax = b becomes:  (U_use sigma_use Vh_use.conjugate_transpose()) x = b\n",
        "#  or\n",
        "#  svd_sol = (U_use sigma_use Vh_use.conjugate_transpose()).inverse() b\n",
        "#  or\n",
        "#  svd_sol = Vh_use * Sigma_use.inverse() * U_use.transpose() * b\n",
        "#  (since Vh_use.conjugate_transpose() = Vh_use.inverse() and U_use.transpose() = U_use.inverse() )\n",
        "svd_sol = (Vh_use @ linalg.inv(sigma_use) @ U_use.transpose()) @ b\n",
        "svd_sol"
      ],
      "execution_count": 15,
      "outputs": [
        {
          "output_type": "execute_result",
          "data": {
            "text/plain": [
              "matrix([[ 1.72618155e-03],\n",
              "        [ 5.49296610e-03],\n",
              "        [ 6.23228716e-02],\n",
              "        [-3.05612417e-02],\n",
              "        [ 3.88476294e-02],\n",
              "        [-2.91808821e-01],\n",
              "        [ 2.30988290e-01],\n",
              "        [-2.84827539e+00],\n",
              "        [ 7.44249157e-01]])"
            ]
          },
          "metadata": {
            "tags": []
          },
          "execution_count": 15
        }
      ]
    },
    {
      "cell_type": "code",
      "metadata": {
        "id": "LX49XLRwq9Ys",
        "colab_type": "code",
        "colab": {
          "base_uri": "https://localhost:8080/",
          "height": 295
        },
        "outputId": "8e96bca6-47d3-4564-a4d4-a504d6835861"
      },
      "source": [
        "#Show a plot of the solutions using the best-fit method, and the SVD method:\n",
        "\n",
        "# We'll specify that x is a variable:\n",
        "x = sym.symbols('x')\n",
        "xdata = []\n",
        "xdata = np.array(range(100))/(100/(4*np.pi)) - 2*np.pi\n",
        "fdata = 4 - 2*np.cos(xdata) + np.cos(xdata)**2\n",
        "svd_fit = svd_sol[0,0] + svd_sol[1,0]*xdata + svd_sol[2,0]*(xdata**2) + svd_sol[3,0]*(xdata**3) + svd_sol[4,0]*(xdata**4) + svd_sol[5,0]*(xdata**5) + svd_sol[6,0]*(xdata**6) + svd_sol[7,0]*(xdata**7)+svd_sol[8,0]*(xdata**8)\n",
        "best_fit = c[0,0] + c[1,0]*xdata + c[2,0]*(xdata**2) + c[3,0]*(xdata**3) + c[4,0]*(xdata**4) + c[5,0]*(xdata**5) + c[6,0]*(xdata**6) + c[7,0]*(xdata**7) + c[8,0]*(xdata**8)\n",
        "# Create the actual plot in red, and our datapoints in blue,\n",
        "# the best-fit method in green, and the svd solution in aqua:  \n",
        "plt.plot(xdata,fdata, color='red', linewidth=2 ) + plt.plot(actual_data_x, actual_data_y, 'bo', alpha=0.3)+plt.plot(xdata,best_fit, color='green') + plt.plot(xdata, svd_fit, 'aqua')\n",
        "\n",
        "#Restrict the output values to this range:\n",
        "plt.ylim(-30,30)\n",
        "# Add a title\n",
        "plt.title('Our test data (blue) for the original function (red); best-fit solution (green)  and svd solution (aqua)')\n",
        "\n",
        "# Add X and y Label\n",
        "plt.xlabel('x axis')\n",
        "plt.ylabel('output')\n",
        "\n",
        "# Add a grid\n",
        "plt.grid(alpha=.4,linestyle='--')\n"
      ],
      "execution_count": 24,
      "outputs": [
        {
          "output_type": "display_data",
          "data": {
            "image/png": "[encoded data removed]",
            "text/plain": [
              "<Figure size 432x288 with 1 Axes>"
            ]
          },
          "metadata": {
            "tags": [],
            "needs_background": "light"
          }
        }
      ]
    },
    {
      "cell_type": "code",
      "metadata": {
        "id": "TWj-yO5wq7F9",
        "colab_type": "code",
        "colab": {}
      },
      "source": [
        "plt.plot()"
      ],
      "execution_count": 0,
      "outputs": []
    }
  ]
}