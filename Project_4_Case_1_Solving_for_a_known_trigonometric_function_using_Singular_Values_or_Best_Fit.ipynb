{
  "nbformat": 4,
  "nbformat_minor": 0,
  "metadata": {
    "colab": {
      "name": "Project 4:  Case 1 - Solving for a known trigonometric function using Singular Values or Best Fit.ipynb",
      "provenance": [],
      "collapsed_sections": [],
      "authorship_tag": "ABX9TyOVJbIRVOSg9Tp06d6E+QXg",
      "include_colab_link": true
    },
    "kernelspec": {
      "name": "python3",
      "display_name": "Python 3"
    }
  },
  "cells": [
    {
      "cell_type": "markdown",
      "metadata": {
        "id": "view-in-github",
        "colab_type": "text"
      },
      "source": [
        "<a href=\"https://colab.research.google.com/github/awangberg/AdvLinearAlgebra/blob/master/Project_4_Case_1_Solving_for_a_known_trigonometric_function_using_Singular_Values_or_Best_Fit.ipynb\" target=\"_parent\"><img src=\"https://colab.research.google.com/assets/colab-badge.svg\" alt=\"Open In Colab\"/></a>"
      ]
    },
    {
      "cell_type": "code",
      "metadata": {
        "id": "RikUpdZwlBC1",
        "colab_type": "code",
        "colab": {}
      },
      "source": [
        "#  Libraries that we'll need:\n",
        "import numpy as np\n",
        "import sympy as sym\n",
        "#from scipy import misc\n",
        "from scipy import linalg\n",
        "#from PIL import Image\n",
        "#import imageio\n",
        "import matplotlib.pyplot as plt\n",
        "# importing \"random\" for random operations \n",
        "import random "
      ],
      "execution_count": 0,
      "outputs": []
    },
    {
      "cell_type": "markdown",
      "metadata": {
        "id": "hZ4yDsfTlH6l",
        "colab_type": "text"
      },
      "source": [
        "#  Singular Value Decomposition and Best Fit\n",
        "\n",
        "We look at some data generated here from three sources:\n",
        "\n",
        "*   Case 0:  A known polynomial function $f(x) = 4 - 3x^2 + 5x^6$\n",
        "*   Case 1:  A known trigonometric function $f(x) = 4 - 2cos(x) + cos^2 (x)$\n",
        "*   Case 2:  A matrix of data $M$ (specified below) with unknown source function\n",
        "*   Case 3:  An interesting case."
      ]
    },
    {
      "cell_type": "markdown",
      "metadata": {
        "id": "FNuhqe22lOzW",
        "colab_type": "text"
      },
      "source": [
        "#  Overview for Case 1: A known trigonometric function $f(x) = 4 - 2\\cos(x) + \\cos^2(x)$  \n",
        "We generate data for the polynomial function \n",
        "$$f(x) = 4 -3\\cos(x) + \\cos^2 (x)$$ \n",
        "We know two things: The input (x) and the output (f(x)) for that input.  Pretend we know the (x, f(x)) pairs for **a lot** of different points, say $3$ of them.\n",
        "\n",
        "We want to find out what combination of polynomials $1, x, x^2, x^3, x^4, x^5, x^6, x^7$ and $x^8$ best matches the data.  For each input/output pair $(x, f(x))$, we generate one row of data in the system $Ac = b$:\n",
        "\n",
        "$$ [  c_0 * 1 + c_1 * x + c_2 * x^2 + c_3 * x^3 + ... c_8 x^8 = f(x) ] $$\n",
        "\n",
        "or\n",
        "\n",
        "$$ \\left[ \\begin{array}{ccccccccc} 1 & x & x^2 & x^3 & x^4 & x^5 & x^6 & x^7 & x^8 \\end{array} \\right] \\left( \\begin{array}{c} c_0 \\\\ c_1 \\\\ c_2 \\\\ c_3 \\\\ c_4 \\\\ c_5 \\\\c_6 \\\\ c7 \\\\ c8 \\\\ \\end{array} \\right) = \\left[ f(x) \\right] $$\n",
        "\n",
        "\n",
        "Be careful -- the unknowns are the coefficients in front - the $c_0, c_1, c_2, ..., c_8$ values.  Since we know $x$, then we know $x, x^2, x^3, x^4, ... x^8$. And we know the output $f(x)$ for that row.\n",
        "\n",
        "So, if we know $x=2$ and $f(2) = 312$, then we populate the row as:\n",
        "\n",
        "$$ [  c_0*1  + c_1*2 + c_2*4 + c_3*8 + ... + c_8*256 = 312 ] $$\n",
        "\n",
        "or\n",
        "$$ \\left[ \\begin{array}{ccccccccc} 1 & 2 & 4 & 8 & 16 & x32 & 64 & 128 & 256\\end{array} \\right] \\left( \\begin{array}{c} c_0 \\\\ c_1 \\\\ c_2 \\\\ c_3 \\\\ c_4 \\\\ c_5 \\\\c_6 \\\\ c_6 \\\\ c_8 \\\\ \\end{array} \\right) = \\left[ 312 \\right] $$\n",
        "\n",
        "where the vector $\\vec{c}$ contains the unknowns $c_0, c_1, c_2, \\ldots c_8$\n",
        "\n",
        "So... let's generate the matrix:\n",
        "\n"
      ]
    },
    {
      "cell_type": "markdown",
      "metadata": {
        "id": "zGqpUiw8D3CP",
        "colab_type": "text"
      },
      "source": [
        "#1.1 Setting up the system\n",
        "\n",
        "We'll generate some data points for our system using the function \n",
        "$$ f(x) = 4 - 2\\cos(x) + \\cos^2(x)$$\n",
        "\n",
        "We'll store the input data in **actual_data_x** and the output in **actual_data_y**.\n",
        "\n",
        "We'll also use the data to set up a system\n",
        "$$M \\vec{x} = \\vec{b}$$\n",
        "\n",
        "where **actual_data_x** is used to populate matrix $M$ and **actual_data_y** is used to populate $\\vec{b}$."
      ]
    },
    {
      "cell_type": "code",
      "metadata": {
        "id": "v8SZR2faD-1h",
        "colab_type": "code",
        "colab": {}
      },
      "source": [
        "#We'll generate random points of data for our system.\n",
        "#The actual points for the system will be stored in containers actual_data_x and actual_data_y\n",
        "\n",
        "actual_data_x = []\n",
        "actual_data_y = []\n",
        "\n",
        "#We'll use (cough... cough...) three   data points:\n",
        "for i in range(3):\n",
        "    # pick a random number between -2pi and 2pi\n",
        "    x = 4*np.pi*random.random() - 2*np.pi\n",
        "    f = 4 - 2*np.cos(x) + np.cos(x)**2\n",
        "    actual_data_x.append(x)\n",
        "    actual_data_y.append(f)"
      ],
      "execution_count": 0,
      "outputs": []
    },
    {
      "cell_type": "code",
      "metadata": {
        "id": "LuBxCrVmEQJ6",
        "colab_type": "code",
        "colab": {}
      },
      "source": [
        "# uncomment code below  to look at the data in actual_data_x or in actual_data_y\n",
        "\n",
        "#actual_data_x\n",
        "#actual_data_y"
      ],
      "execution_count": 0,
      "outputs": []
    },
    {
      "cell_type": "code",
      "metadata": {
        "id": "zlBDrsHMER8j",
        "colab_type": "code",
        "colab": {}
      },
      "source": [
        "#Create the matrix M from the data in actual_data_x\n",
        "M_entries = []\n",
        "\n",
        "for x in actual_data_x:\n",
        "  M_entries.append([1, x, x**2, x**3, x**4, x**5, x**6, x**7, x**8])\n",
        "\n",
        "M = []\n",
        "M = np.matrix(M_entries)\n",
        "\n",
        "\n",
        "#and create the vector b from the data in actual_data_y:\n",
        "b = []\n",
        "b = (np.matrix(actual_data_y)).transpose()"
      ],
      "execution_count": 0,
      "outputs": []
    },
    {
      "cell_type": "code",
      "metadata": {
        "id": "GF2h3SjGEZr0",
        "colab_type": "code",
        "outputId": "6b47f603-017c-41dd-9942-1b82d19d76cb",
        "colab": {
          "base_uri": "https://localhost:8080/",
          "height": 72
        }
      },
      "source": [
        "# Uncomment either line below to show the matrix M\n",
        "# or the first five entries of b\n",
        "\n",
        "M\n",
        "b[:5]"
      ],
      "execution_count": 5,
      "outputs": [
        {
          "output_type": "execute_result",
          "data": {
            "text/plain": [
              "matrix([[6.26107259],\n",
              "        [4.26796021],\n",
              "        [6.98746653]])"
            ]
          },
          "metadata": {
            "tags": []
          },
          "execution_count": 5
        }
      ]
    },
    {
      "cell_type": "markdown",
      "metadata": {
        "id": "e-MMyhuYEsgT",
        "colab_type": "text"
      },
      "source": [
        "#1.2:  Plot the generated system:\n",
        "\n",
        "We'll create a plot showing the function (in red) and the data points sampled for the function (in blue).\n",
        "\n",
        "To generate the graph of the function $f(x)$, we first use $100$ data points from $0$ to $99$, then compress them into an interval of width $6$, and shift it left so that the 100 data points are equally spaced between $x = -2\\pi$ and $x=2\\pi$."
      ]
    },
    {
      "cell_type": "code",
      "metadata": {
        "id": "PGd38j_4qfm1",
        "colab_type": "code",
        "outputId": "4ee92b99-acbb-4eed-b793-aaae5d63642d",
        "colab": {
          "base_uri": "https://localhost:8080/",
          "height": 295
        }
      },
      "source": [
        "# We'll specify that x is a variable:\n",
        "x = sym.symbols('x')\n",
        "\n",
        "xdata = []\n",
        "fdata = []\n",
        "\n",
        "#set up our 100 data points on the interval from (-2pi, 2pi):\n",
        "xdata = np.array(range(100))/(100/(4*np.pi)) - 2*np.pi\n",
        "# find the ouput for our function on each data point:\n",
        "fdata = 4 - 2*np.cos(xdata) + np.cos(xdata)**2\n",
        "\n",
        "# Create the plot in red, and our datapoints in blue:  \n",
        "plt.plot(xdata,fdata, color='red') + plt.plot(actual_data_x, actual_data_y, 'bo')\n",
        "\n",
        "# Add a title\n",
        "plt.title('Our test data (in blue) compared to the actual data (in red)')\n",
        "\n",
        "# Add X and y Label\n",
        "plt.xlabel('x axis')\n",
        "plt.ylabel('output')\n",
        "\n",
        "# Add a grid\n",
        "plt.grid(alpha=.4,linestyle='--')\n"
      ],
      "execution_count": 6,
      "outputs": [
        {
          "output_type": "display_data",
          "data": {
            "image/png": "[encoded data removed]",
            "text/plain": [
              "<Figure size 432x288 with 1 Axes>"
            ]
          },
          "metadata": {
            "tags": [],
            "needs_background": "light"
          }
        }
      ]
    },
    {
      "cell_type": "markdown",
      "metadata": {
        "id": "QlXzepbiFEiQ",
        "colab_type": "text"
      },
      "source": [
        "#1.3:  Solving the system using the method of Best-Fit:\n",
        "\n",
        "Given a system \n",
        "$$ M \\vec{x} = \\vec{b}$$\n",
        "\n",
        "where matrix $M$ is **not necessarily square**, we can multiply by $M^T$ on the left to form the system\n",
        "\n",
        "$$ \\left( M^T M \\right) \\vec{x} = M^T \\vec{b} $$\n",
        "\n",
        "Now, $M^T M$ is a square matrix, so we can use it's inverse to solve for $\\vec{x}$:\n",
        "\n",
        "$$ \\vec{x} = \\left( M^T M \\right)^{-1} M^T \\vec{b}$$\n",
        "\n",
        "This solution method is called the method of Best-Fit.\n",
        "\n",
        "**A word of caution**:  We're initially trying to fit a 6th degree polynomial with only 3 data points.  That shouldn't have a good solution, and it could have no solution.  If you get no solution, start at the top and re-run the code to generate a new set of random data points for our system."
      ]
    },
    {
      "cell_type": "code",
      "metadata": {
        "id": "Os9TvUT5qiQO",
        "colab_type": "code",
        "outputId": "a36b30dc-ff8a-4de3-8a0c-adb3aaa90d57",
        "colab": {
          "base_uri": "https://localhost:8080/",
          "height": 183
        }
      },
      "source": [
        "#  Find the solution to Mx = b using Best Fit:\n",
        "#  (We've already used 'x' as a variable, so we'll call the solution vector c.)\n",
        "c = linalg.inv(M.transpose() * M) * M.transpose() * b\n",
        "c"
      ],
      "execution_count": 7,
      "outputs": [
        {
          "output_type": "execute_result",
          "data": {
            "text/plain": [
              "matrix([[ 1.64402996e+01],\n",
              "        [ 1.42670269e+01],\n",
              "        [-5.11422625e+00],\n",
              "        [-2.75803376e+00],\n",
              "        [ 8.83229993e-01],\n",
              "        [ 1.89856710e-01],\n",
              "        [-2.06477296e-02],\n",
              "        [-6.49641496e-04],\n",
              "        [-3.44371657e-03]])"
            ]
          },
          "metadata": {
            "tags": []
          },
          "execution_count": 7
        }
      ]
    },
    {
      "cell_type": "markdown",
      "metadata": {
        "id": "_intXzv7FS-D",
        "colab_type": "text"
      },
      "source": [
        "We can test our solution against the output of our original system.\n",
        "\n",
        "The original output in our system is represented by $\\vec{b}$.\n",
        "\n",
        "Our suggested solution to $M\\vec{x} = \\vec{b}$ is $\\vec{c}$.  That is, we think\n",
        "\n",
        "$$ M \\vec{c} \\approx \\vec{b}$$\n",
        "\n",
        "If we have a good fit, then \n",
        "\n",
        "$$\\vec{b} - M \\vec{c} \\approx 0$$\n",
        "\n",
        "To test our solution, we find the) magnitude of $\\vec{b} - M\\vec{c}$:"
      ]
    },
    {
      "cell_type": "code",
      "metadata": {
        "id": "cyHQjzItqlNn",
        "colab_type": "code",
        "outputId": "3b0aa5d2-cecd-4b6f-b0ef-d924baa24298",
        "colab": {
          "base_uri": "https://localhost:8080/",
          "height": 35
        }
      },
      "source": [
        "#  Let's see how close this actually gets us by comparing the original b vector to the result of Mc:\n",
        "error = ((b-M*c).transpose() * (b-M*c))[0,0]\n",
        "error**0.5"
      ],
      "execution_count": 8,
      "outputs": [
        {
          "output_type": "execute_result",
          "data": {
            "text/plain": [
              "32.960251831716015"
            ]
          },
          "metadata": {
            "tags": []
          },
          "execution_count": 8
        }
      ]
    },
    {
      "cell_type": "markdown",
      "metadata": {
        "id": "SqBJrx91FaGg",
        "colab_type": "text"
      },
      "source": [
        "We can plot the actual solution (in red) with our best-fit solution (in green), using the test data shown as blue points.  It may be helpful to adjust the limits on the y-axis to zoom in or out on the output.\n"
      ]
    },
    {
      "cell_type": "code",
      "metadata": {
        "id": "prV8OVeoFbvX",
        "colab_type": "code",
        "outputId": "90cc8a8a-27b5-4e8b-bf22-4eb1e165e011",
        "colab": {
          "base_uri": "https://localhost:8080/",
          "height": 295
        }
      },
      "source": [
        "#Show a plot of the solutions using the best-fit method, and the SVD method:\n",
        "\n",
        "# We'll specify that x is a variable:\n",
        "x = sym.symbols('x')\n",
        "\n",
        "xdata = []\n",
        "fdata = []\n",
        "#set up our 100 data points on the interval from (-2pi, 2pi):\n",
        "xdata = np.array(range(100))/(100/(4*np.pi)) - 2*np.pi\n",
        "# find the ouput for our function on each data point:\n",
        "fdata = 4 - 2*np.cos(xdata) + np.cos(xdata)**2\n",
        "\n",
        "best_fit = c[0,0] + c[1,0]*xdata + c[2,0]*(xdata**2) + c[3,0]*(xdata**3) + c[4,0]*(xdata**4) + c[5,0]*(xdata**5) + c[6,0]*(xdata**6) + c[7,0]*(xdata**7) + c[8,0]*(xdata**8)\n",
        "# Create the actual plot in red, and our datapoints in blue,\n",
        "# and the best-fit method in green:  \n",
        "plt.plot(xdata,fdata, color='red', linewidth=2 ) + plt.plot(actual_data_x, actual_data_y, 'bo', alpha=0.3)+plt.plot(xdata,best_fit, color='green')\n",
        "\n",
        "#Restrict the output values to this range:\n",
        "plt.ylim(-30,30)\n",
        "\n",
        "# Add a title\n",
        "plt.title('Our test data (blue) for the original function (red) and our best-fit solution (green)')\n",
        "\n",
        "# Add X and y Label\n",
        "plt.xlabel('x axis')\n",
        "plt.ylabel('output')\n",
        "\n",
        "# Add a grid\n",
        "plt.grid(alpha=.4,linestyle='--')"
      ],
      "execution_count": 9,
      "outputs": [
        {
          "output_type": "display_data",
          "data": {
            "image/png": "[encoded data removed]",
            "text/plain": [
              "<Figure size 432x288 with 1 Axes>"
            ]
          },
          "metadata": {
            "tags": [],
            "needs_background": "light"
          }
        }
      ]
    },
    {
      "cell_type": "markdown",
      "metadata": {
        "id": "UUukKVjEF1ZL",
        "colab_type": "text"
      },
      "source": [
        "#1.4 Solving the system using Singular Value Decomposition\n",
        "\n",
        "Singular Value Decomposition decomposes a matrix M into three matrices\n",
        "\n",
        "$$ M = U \\Sigma V^\\dagger$$\n",
        "\n",
        "where $U$ and $V$ are square matrices and $\\Sigma$ is a rectangular matrix with singular values on the main diagonal."
      ]
    },
    {
      "cell_type": "code",
      "metadata": {
        "id": "MCh6XRCXqnu2",
        "colab_type": "code",
        "colab": {}
      },
      "source": [
        "#  For this method, we use SVD on the data matrix M:\n",
        "U, S, Vh = linalg.svd(M, full_matrices=True)\n",
        "\n",
        "Vh = Vh.T"
      ],
      "execution_count": 0,
      "outputs": []
    },
    {
      "cell_type": "code",
      "metadata": {
        "id": "_Or_krPzqqr7",
        "colab_type": "code",
        "colab": {}
      },
      "source": [
        "#  Uncomment the lines below to show the matrix U, S, and Vh:\n",
        "#  Notice that in S only the singular values are stored, not the entire matrix.\n",
        "#U\n",
        "#S\n",
        "#Vh"
      ],
      "execution_count": 0,
      "outputs": []
    },
    {
      "cell_type": "code",
      "metadata": {
        "id": "0Z3xxDuhGCHc",
        "colab_type": "code",
        "outputId": "192b7050-16a7-4828-a892-f3706f3041bd",
        "colab": {
          "base_uri": "https://localhost:8080/",
          "height": 35
        }
      },
      "source": [
        "#  The 2nd singular value is:\n",
        "S[1]"
      ],
      "execution_count": 12,
      "outputs": [
        {
          "output_type": "execute_result",
          "data": {
            "text/plain": [
              "1070.6890759116866"
            ]
          },
          "metadata": {
            "tags": []
          },
          "execution_count": 12
        }
      ]
    },
    {
      "cell_type": "code",
      "metadata": {
        "id": "7XoANhuXqzbi",
        "colab_type": "code",
        "outputId": "a377616d-939d-4789-ca9d-fb1739f2edbd",
        "colab": {
          "base_uri": "https://localhost:8080/",
          "height": 35
        }
      },
      "source": [
        "# We can compare the original matrix M to the matrix reconstructed (called a1) from the SVD:\n",
        "# If they are close, then allclose(M, a1) should be True.\n",
        "\n",
        "#First, recast S as a matrix instead of a vector:\n",
        "sigma = np.zeros((U.shape[1], Vh.shape[0]))\n",
        "for i in range(min(sigma.shape)):\n",
        "     sigma[i, i] = S[i]\n",
        "a1 = np.dot(U, np.dot(sigma, Vh.T))\n",
        "#does a1 approximate M?\n",
        "np.allclose(M, a1)"
      ],
      "execution_count": 13,
      "outputs": [
        {
          "output_type": "execute_result",
          "data": {
            "text/plain": [
              "True"
            ]
          },
          "metadata": {
            "tags": []
          },
          "execution_count": 13
        }
      ]
    },
    {
      "cell_type": "markdown",
      "metadata": {
        "id": "GEiJnb8ZHxe0",
        "colab_type": "text"
      },
      "source": [
        "The SVD decomposition of matrix $M$ may have non-zero singular values in $\\Sigma.  To solve\n",
        "$$ M \\vec{x} = \\vec{b}$$\n",
        "\n",
        "we can replace $M$ with $U \\Sigma V^\\dagger$:\n",
        "$$ U \\, \\Sigma \\, V^\\dagger \\, \\vec{x} = \\vec{b}$$\n",
        "\n",
        "The inverse of matrices $U$ and $V$ are $U^\\dagger$ and $V^\\dagger$.  If we decompose $\\Sigma$ into a block matrix composed of the non-zero singular values, then we can restrict our singular value decomposition into invertible and non-invertible parts:\n",
        "\n",
        "$$ U \\, \\Sigma \\, V^\\dagger = \\left( \\begin{array}{c|c} U_{use} & U_{discard} \\\\ \\end{array} \\right) \\left( \\begin{array}{c|c} \\Sigma_{use} & 0 \\\\ \\hline 0 & \\Sigma_{discard} \\\\ \\end{array} \\right)  \\left( \\begin{array}{c|c} V_{use} & V_{discard} \\\\ \\end{array} \\right)^\\dagger$$\n",
        "\n",
        "Effectively, this allows us to replace $U \\Sigma V^\\dagger \\vec{x} = \\vec{b}$ with\n",
        "\n",
        "$$ U_{use} \\, \\Sigma_{use} \\, V_{use}^\\dagger \\, \\vec{x} = \\vec{b}$$\n",
        "\n",
        "The solution to this system is then\n",
        "\n",
        "$$\\vec{x} = V_{use} \\, \\Sigma_{use}^{-1} \\, U_{use}^\\dagger \\, \\vec{b}$$\n"
      ]
    },
    {
      "cell_type": "code",
      "metadata": {
        "id": "MD8yFnR-q1U8",
        "colab_type": "code",
        "colab": {}
      },
      "source": [
        "#  Based on the number of non-zero singular values in S, divide each of U, sigma, and Vh into \n",
        "#  U_use, Sigma_use, and Vh_use.\n",
        "#  and  discard U_d, Sigma_d, Vh_d\n",
        "useSigs = 3\n",
        "\n",
        "#Use these parts of U, S, and Vh\n",
        "(Vrows, Vcols) = Vh.shape\n",
        "(Urows, Ucols) = U.shape\n",
        "U_use = U[:Urows, :useSigs]\n",
        "Vh_use = Vh[:Vrows, :useSigs]\n",
        "sigma_use = sigma[:useSigs, :useSigs]\n",
        "\n",
        "#discard these parts of U, S, and Vh:\n",
        "U_d = U[:Urows, useSigs:]\n",
        "Vh_d = Vh[:Vrows, useSigs:]\n",
        "sigma_d = sigma[useSigs:, useSigs:]"
      ],
      "execution_count": 0,
      "outputs": []
    },
    {
      "cell_type": "code",
      "metadata": {
        "id": "k5xb86Grq3V9",
        "colab_type": "code",
        "colab": {}
      },
      "source": [
        "#  We should be able to figure out the size of U and Vh that we'll use:\n",
        "#\n",
        "#  U S Vh  =   [         .     ] [             .         ]  [            .      ]\n",
        "#              [ U_use   .     ] [  sigma_use  .         ]  [   Vh_use   .      ]\n",
        "#              [         . U_d ] [.......................]  [            . Vh_d ]\n",
        "#              [         .     ] [             . sigma_d ]  [            .      ]\n",
        "#\n",
        "#\n",
        "#  Check that U_use, sigma_use, and Vh_use are the right sizes, as well as U_d, sigma_d, and Vh_d\n",
        "#U_use.shape\n",
        "#sigma_use.shape\n",
        "#Vh_use.shape\n",
        "#U_d.shape\n",
        "#sigma_d.shape\n",
        "#Vh_d.shape"
      ],
      "execution_count": 0,
      "outputs": []
    },
    {
      "cell_type": "code",
      "metadata": {
        "id": "dYi5SpNJq5WP",
        "colab_type": "code",
        "outputId": "e658bb48-d15b-465d-da35-e05713207316",
        "colab": {
          "base_uri": "https://localhost:8080/",
          "height": 183
        }
      },
      "source": [
        "#  If we use Singular Value Decomposition to break down M as a product of matrices\n",
        "#  M = U sigma Vh.conjugate_transpose()\n",
        "#  Then the part of A which corresponds to non-zero singular values is:\n",
        "#  M_use = U_use sigma_use Vh_use.conjugate_transpose()\n",
        "#\n",
        "#  So, the equation Mx = b becomes:  (U_use sigma_use Vh_use.conjugate_transpose()) x = b\n",
        "#  or\n",
        "#  svd_sol = (U_use sigma_use Vh_use.conjugate_transpose()).inverse() b\n",
        "#  or\n",
        "#  svd_sol = Vh_use * Sigma_use.inverse() * U_use.transpose() * b\n",
        "#  (since Vh_use.conjugate_transpose() = Vh_use.inverse() and U_use.transpose() = U_use.inverse() )\n",
        "svdsol = (Vh_use @ linalg.inv(sigma_use) @ U_use.transpose()) @ b\n",
        "svdsol"
      ],
      "execution_count": 16,
      "outputs": [
        {
          "output_type": "execute_result",
          "data": {
            "text/plain": [
              "matrix([[ 0.00804961],\n",
              "        [-0.01299599],\n",
              "        [ 0.02314085],\n",
              "        [-0.03467105],\n",
              "        [ 0.06432082],\n",
              "        [-0.07588904],\n",
              "        [ 0.14932449],\n",
              "        [ 0.00070794],\n",
              "        [-0.01656561]])"
            ]
          },
          "metadata": {
            "tags": []
          },
          "execution_count": 16
        }
      ]
    },
    {
      "cell_type": "markdown",
      "metadata": {
        "id": "2HbYoWz0IF4f",
        "colab_type": "text"
      },
      "source": [
        "We can test our solution against the output of our original system.\n",
        "\n",
        "The original output in our system is represented by $\\vec{b}$.\n",
        "\n",
        "Our suggested solution to $M\\vec{x} = \\vec{b}$ is $\\vec{svdsol}$.  That is, we think\n",
        "\n",
        "$$ M \\vec{svdsol} \\approx \\vec{b}$$\n",
        "\n",
        "If we have a good fit, then \n",
        "\n",
        "$$\\vec{b} - M \\vec{svdsol} \\approx 0$$\n",
        "\n",
        "To test our solution, we find the) magnitude of $\\vec{b} - M\\vec{svdsol}$:"
      ]
    },
    {
      "cell_type": "code",
      "metadata": {
        "id": "0gfbfu6cIKb9",
        "colab_type": "code",
        "outputId": "b934b8b8-b5b8-44c8-e4d8-fde09e6bcc13",
        "colab": {
          "base_uri": "https://localhost:8080/",
          "height": 35
        }
      },
      "source": [
        "#  Let's see how close this actually gets us by comparing the original b vector to the result of Mc:\n",
        "error = ((b-M*svdsol).transpose() * (b-M*svdsol))[0,0]\n",
        "error**0.5"
      ],
      "execution_count": 17,
      "outputs": [
        {
          "output_type": "execute_result",
          "data": {
            "text/plain": [
              "2.3884239050083267e-13"
            ]
          },
          "metadata": {
            "tags": []
          },
          "execution_count": 17
        }
      ]
    },
    {
      "cell_type": "code",
      "metadata": {
        "id": "LX49XLRwq9Ys",
        "colab_type": "code",
        "outputId": "b1388ebb-e601-4d3d-c8f1-5ef76183988d",
        "colab": {
          "base_uri": "https://localhost:8080/",
          "height": 295
        }
      },
      "source": [
        "#Show a plot of the solutions using the best-fit method, and the SVD method:\n",
        "\n",
        "# We'll specify that x is a variable:\n",
        "x = sym.symbols('x')\n",
        "\n",
        "xdata = []\n",
        "fdata = []\n",
        "#set up our 100 data points on the interval from (-2pi, 2pi):\n",
        "xdata = np.array(range(100))/(100/(4*np.pi)) - 2*np.pi\n",
        "\n",
        "# find the ouput for our function on each data point:\n",
        "fdata = 4 - 2*np.cos(xdata) + np.cos(xdata)**2\n",
        "\n",
        "#construct the solution from svdsol\n",
        "svd_fit = svdsol[0,0] + svdsol[1,0]*xdata + svdsol[2,0]*(xdata**2) + svdsol[3,0]*(xdata**3) + svdsol[4,0]*(xdata**4) + svdsol[5,0]*(xdata**5) + svdsol[6,0]*(xdata**6) + svdsol[7,0]*(xdata**7)+svdsol[8,0]*(xdata**8)\n",
        "# Create the actual plot in red, and our datapoints in blue,\n",
        "# and the svd solution in aqua:  \n",
        "plt.plot(xdata,fdata, color='red', linewidth=2 ) + plt.plot(actual_data_x, actual_data_y, 'bo', alpha=0.3) + plt.plot(xdata, svd_fit, 'aqua')\n",
        "\n",
        "#Restrict the output values to this range:\n",
        "plt.ylim(-30,30)\n",
        "# Add a title\n",
        "plt.title('Our test data (blue) for the original function (red); best-fit solution (green)  and svd solution (aqua)')\n",
        "\n",
        "# Add X and y Label\n",
        "plt.xlabel('x axis')\n",
        "plt.ylabel('output')\n",
        "\n",
        "# Add a grid\n",
        "plt.grid(alpha=.4,linestyle='--')\n"
      ],
      "execution_count": 18,
      "outputs": [
        {
          "output_type": "display_data",
          "data": {
            "image/png": "[encoded data removed]",
            "text/plain": [
              "<Figure size 432x288 with 1 Axes>"
            ]
          },
          "metadata": {
            "tags": [],
            "needs_background": "light"
          }
        }
      ]
    },
    {
      "cell_type": "markdown",
      "metadata": {
        "id": "LcE53P4SI8S8",
        "colab_type": "text"
      },
      "source": [
        "#1.5  Finding a better solution\n",
        "\n",
        "\n",
        "Both the above solutions give really bad approximations to the polynomial  \n",
        "$$f(x) = 4 - 2\\cos(x) + \\cos^2(x)$$\n",
        "\n",
        "Why?  We only used three data points for our data.  Go back and modify the code so that you use *MORE DATA*\n",
        "\n",
        "(Hint:  You have to change two of the '3' numbers in the code above:  One to generate more data; the other to use the right number of singular values for your data)\n",
        "\n",
        "The graph below should show both the best-fit and svd solution:"
      ]
    },
    {
      "cell_type": "code",
      "metadata": {
        "id": "znsFEjFNcCgI",
        "colab_type": "code",
        "outputId": "6aeb81ab-a34e-4d15-af4b-02d3267b2630",
        "colab": {
          "base_uri": "https://localhost:8080/",
          "height": 295
        }
      },
      "source": [
        "#Show a plot of the solutions using the best-fit method, and the SVD method:\n",
        "\n",
        "# We'll specify that x is a variable:\n",
        "x = sym.symbols('x')\n",
        "\n",
        "xdata = []\n",
        "fdata = []\n",
        "#set up our 100 data points on the interval from (-2pi, 2pi):\n",
        "xdata = np.array(range(100))/(100/(4*np.pi)) - 2*np.pi\n",
        "\n",
        "# find the ouput for our function on each data point:\n",
        "fdata = 4 - 2*np.cos(xdata) + np.cos(xdata)**2\n",
        "\n",
        "#construct the solution from svdsol\n",
        "svd_fit = svdsol[0,0] + svdsol[1,0]*xdata + svdsol[2,0]*(xdata**2) + svdsol[3,0]*(xdata**3) + svdsol[4,0]*(xdata**4) + svdsol[5,0]*(xdata**5) + svdsol[6,0]*(xdata**6) + svdsol[7,0]*(xdata**7)+svdsol[8,0]*(xdata**8)\n",
        "#construct the solution from bestfit\n",
        "best_fit = c[0,0] + c[1,0]*xdata + c[2,0]*(xdata**2) + c[3,0]*(xdata**3) + c[4,0]*(xdata**4) + c[5,0]*(xdata**5) + c[6,0]*(xdata**6) + c[7,0]*(xdata**7) + c[8,0]*(xdata**8)\n",
        "# Create the actual plot in red, and our datapoints in blue,\n",
        "# the best-fit method in green, and the svd solution in aqua:  \n",
        "plt.plot(xdata,fdata, color='red', linewidth=2 ) + plt.plot(actual_data_x, actual_data_y, 'bo', alpha=0.3)+plt.plot(xdata,best_fit, color='green') + plt.plot(xdata, svd_fit, 'aqua')\n",
        "\n",
        "#Restrict the output values to this range:\n",
        "plt.ylim(-30,30)\n",
        "# Add a title\n",
        "plt.title('Our test data (blue) for the original function (red); best-fit solution (green)  and svd solution (aqua)')\n",
        "\n",
        "# Add X and y Label\n",
        "plt.xlabel('x axis')\n",
        "plt.ylabel('output')\n",
        "\n",
        "# Add a grid\n",
        "plt.grid(alpha=.4,linestyle='--')"
      ],
      "execution_count": 19,
      "outputs": [
        {
          "output_type": "display_data",
          "data": {
            "image/png": "[encoded data removed]",
            "text/plain": [
              "<Figure size 432x288 with 1 Axes>"
            ]
          },
          "metadata": {
            "tags": [],
            "needs_background": "light"
          }
        }
      ]
    },
    {
      "cell_type": "code",
      "metadata": {
        "id": "KXZs2FIBJGy-",
        "colab_type": "code",
        "colab": {}
      },
      "source": [
        ""
      ],
      "execution_count": 0,
      "outputs": []
    }
  ]
}