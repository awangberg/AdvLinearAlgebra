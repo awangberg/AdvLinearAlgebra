{
  "nbformat": 4,
  "nbformat_minor": 0,
  "metadata": {
    "colab": {
      "name": "Transformations uses Bases.ipynb",
      "provenance": [],
      "authorship_tag": "ABX9TyO+Q9EjtYlmnH1S89rFd6id",
      "include_colab_link": true
    },
    "kernelspec": {
      "name": "python3",
      "display_name": "Python 3"
    }
  },
  "cells": [
    {
      "cell_type": "markdown",
      "metadata": {
        "id": "view-in-github",
        "colab_type": "text"
      },
      "source": [
        "<a href=\"https://colab.research.google.com/github/awangberg/AdvLinearAlgebra/blob/master/Transformations_uses_Bases.ipynb\" target=\"_parent\"><img src=\"https://colab.research.google.com/assets/colab-badge.svg\" alt=\"Open In Colab\"/></a>"
      ]
    },
    {
      "cell_type": "code",
      "metadata": {
        "id": "Lzb4lnHWwf1H",
        "colab_type": "code",
        "colab": {}
      },
      "source": [
        "# standard imports....\n",
        "import matplotlib.pyplot as plt\n",
        "import numpy as np\n",
        "import sympy as sym"
      ],
      "execution_count": 0,
      "outputs": []
    },
    {
      "cell_type": "markdown",
      "metadata": {
        "id": "ZNm7Sr6Aiuoy",
        "colab_type": "text"
      },
      "source": [
        "# Finding Matrices for Transformations\n",
        "\n",
        "In this lab, we'll develop matrices which transform standard objects into new objects.   Each transformation of the plane is represented by a matrix;  Your task is to find the matrix which achieves each transformation."
      ]
    },
    {
      "cell_type": "markdown",
      "metadata": {
        "id": "0uIE5K755lWq",
        "colab_type": "text"
      },
      "source": [
        "#  Find the transformation $M$ which italicises a capital N:\n",
        "\n",
        "Adjust the entries in the matrix $M_N$ below to transform the capital 'N' to the italicized 'N'.\n",
        "\n",
        "The capital 'N' has coordinates:  $(0,0), (0,3), (2,0)$ and $(2, 3)$.\n",
        "\n",
        "The Italicized 'N' has coordinates $(0,0), (1,4), (2,0)$ and $(3,4)$.\n",
        "\n"
      ]
    },
    {
      "cell_type": "code",
      "metadata": {
        "id": "CY939xgM0Dhk",
        "colab_type": "code",
        "outputId": "57e6886c-5e10-4c86-9ca4-cd6533539d8b",
        "colab": {
          "base_uri": "https://localhost:8080/",
          "height": 269
        }
      },
      "source": [
        "N = np.array([[0, 0, 0, 3], [0,3,2,-3], [ 2,0,0,3]])\n",
        "N1, N2, N3, N4 = zip(*N)\n",
        "S = np.array([[0,0,1,4], [ 1,4,1,-4], [2,0,1,4]])\n",
        "S1, S2, S3, S4 = zip(*S)\n",
        "\n",
        "#  Adjust this matrix to overlay the standard N onto the italicized N:\n",
        "#  This is correct when the italicized 'N' is purple.\n",
        "MN = np.matrix([[1, 0], [0, 1]])\n",
        "\n",
        "\n",
        "v1 = np.matrix([[N1[0]], [N2[0]]])\n",
        "v1to = np.matrix([[N3[0]], [N4[0]]])\n",
        "v2 = np.matrix([[N1[1]], [N2[1]]])\n",
        "v2to = np.matrix([[N3[1]], [N4[1]]])\n",
        "v3 = np.matrix([[N1[2]], [N2[2]]])\n",
        "v3to = np.matrix([[N3[2]], [N4[2]]])\n",
        "\n",
        "vv1 = MN.dot(v1)\n",
        "vv1to = MN.dot(v1to)\n",
        "vv2 = MN.dot(v2)\n",
        "vv2to = MN.dot(v2to)\n",
        "vv3 = MN.dot(v3)\n",
        "vv3to = MN.dot(v3to)\n",
        "\n",
        "GN1 = (vv1[0,0], vv2[0,0], vv3[0,0])\n",
        "GN2 = (vv1[1,0], vv2[1,0], vv3[1,0])\n",
        "GN3 = (vv1to[0,0], vv2to[0,0], vv3to[0,0])\n",
        "GN4 = (vv1to[1,0], vv2to[1,0], vv3to[1,0])\n",
        "\n",
        "plt.figure()\n",
        "ax = plt.gca()\n",
        "ax.quiver(N1,N2,N3, N4, angles='xy', scale_units='xy', scale=1, color='blue')\n",
        "ax.quiver(S1,S2,S3, S4, angles='xy', scale_units='xy', scale=1, color='red')\n",
        "ax.quiver(GN1,GN2,GN3, GN4, angles='xy', scale_units='xy', scale=1, color='purple')\n",
        "xmin = min(-2, vv1[0,0], vv2[0,0], vv3[0,0], vv1[0,0] + vv1to[0,0], vv2[0,0] + vv2to[0,0], vv3[0,0] + vv3to[0,0])\n",
        "xmax = max(5, vv1[0,0], vv2[0,0], vv3[0,0], vv1[0,0] + vv1to[0,0], vv2[0,0] + vv2to[0,0], vv3[0,0] + vv3to[0,0])\n",
        "ymin = min(-2, vv1[1,0], vv2[1,0], vv3[1,0], vv1[1,0] + vv1to[1,0], vv2[1,0] + vv2to[1,0], vv3[1,0] + vv3to[1,0])\n",
        "ymax = max(5, vv1[1,0], vv2[1,0], vv3[1,0], vv1[1,0] + vv1to[1,0], vv2[1,0] + vv2to[1,0], vv3[1,0] + vv3to[1,0])\n",
        "ax.set_xlim([xmin, xmax])\n",
        "ax.set_ylim([ymin, ymax])\n",
        "ax.set_aspect(\"equal\")\n",
        "plt.grid(True)\n",
        "plt.draw()\n",
        "plt.show()"
      ],
      "execution_count": 40,
      "outputs": [
        {
          "output_type": "display_data",
          "data": {
            "image/png": "[encoded data removed]",
            "text/plain": [
              "<Figure size 432x288 with 1 Axes>"
            ]
          },
          "metadata": {
            "tags": []
          }
        }
      ]
    },
    {
      "cell_type": "markdown",
      "metadata": {
        "id": "zzux-9RL56fT",
        "colab_type": "text"
      },
      "source": [
        "#  Find the mirror image:  Flip the 'Z' to be a backward 'Z':\n",
        "\n",
        "Adjust the entries in the matrix $M_Z$ below to transform the capital 'Z' to the reversed, compressed 'Z'.\n",
        "\n",
        "The Captial 'Z' has coordinates:  $(2,1), (4,1), (2,4)$ and $(4, 4)$.\n",
        "\n",
        "The Reversed, Compressed 'Z' has coordinates $(-1,1), (-2,1), (-1,4)$ and $(-2,4)$."
      ]
    },
    {
      "cell_type": "code",
      "metadata": {
        "id": "ZNtj2nHxwOjI",
        "colab_type": "code",
        "outputId": "b772db13-5b4c-4d69-989d-671aa5aed9d9",
        "colab": {
          "base_uri": "https://localhost:8080/",
          "height": 269
        }
      },
      "source": [
        "Z = np.array([[ 2, 1, 2, 0], [ 4, 1, -2, 3], [ 2, 4, 2, 0] ])\n",
        "Z1, Z2, Z3, Z4 = zip(*Z)\n",
        "S = np.array([[-1, 1, -1, 0], [ -2, 1, 1, 3], [ -1, 4, -1, 0]])\n",
        "S1, S2, S3, S4 = zip(*S)\n",
        "\n",
        "#  Adjust this matrix to overlay the standard Z onto the reversed, compressed 'Z':\n",
        "#  This is correct when the compressed, reversed 'Z' is purple.\n",
        "MZ = np.matrix([[1,0], [0,1]])\n",
        "\n",
        "\n",
        "v1 = np.matrix([[Z1[0]], [Z2[0]]])\n",
        "v1to = np.matrix([[Z3[0]], [Z4[0]]])\n",
        "v2 = np.matrix([[Z1[1]], [Z2[1]]])\n",
        "v2to = np.matrix([[Z3[1]], [Z4[1]]])\n",
        "v3 = np.matrix([[Z1[2]], [Z2[2]]])\n",
        "v3to = np.matrix([[Z3[2]], [Z4[2]]])\n",
        "\n",
        "vv1 = MZ.dot(v1)\n",
        "vv1to = MZ.dot(v1to)\n",
        "vv2 = MZ.dot(v2)\n",
        "vv2to = MZ.dot(v2to)\n",
        "vv3 = MZ.dot(v3)\n",
        "vv3to = MZ.dot(v3to)\n",
        "\n",
        "GZ1 = (vv1[0,0], vv2[0,0], vv3[0,0])\n",
        "GZ2 = (vv1[1,0], vv2[1,0], vv3[1,0])\n",
        "GZ3 = (vv1to[0,0], vv2to[0,0], vv3to[0,0])\n",
        "GZ4 = (vv1to[1,0], vv2to[1,0], vv3to[1,0])\n",
        "\n",
        "plt.figure()\n",
        "ax = plt.gca()\n",
        "ax.quiver(Z1,Z2,Z3,Z4, angles='xy', scale_units='xy', scale=1, color='blue')\n",
        "ax.quiver(S1,S2,S3,S4, angles='xy', scale_units='xy', scale=1, color='red')\n",
        "ax.quiver(GZ1,GZ2,GZ3,GZ4, angles='xy', scale_units='xy', scale=1, color='purple')\n",
        "xmin = min(-3, vv1[0,0], vv2[0,0], vv3[0,0], vv1[0,0] + vv1to[0,0], vv2[0,0] + vv2to[0,0], vv3[0,0] + vv3to[0,0])\n",
        "xmax = max(5, vv1[0,0], vv2[0,0], vv3[0,0], vv1[0,0] + vv1to[0,0], vv2[0,0] + vv2to[0,0], vv3[0,0] + vv3to[0,0])\n",
        "ymin = min(-1, vv1[1,0], vv2[1,0], vv3[1,0], vv1[1,0] + vv1to[1,0], vv2[1,0] + vv2to[1,0], vv3[1,0] + vv3to[1,0])\n",
        "ymax = max(5, vv1[1,0], vv2[1,0], vv3[1,0], vv1[1,0] + vv1to[1,0], vv2[1,0] + vv2to[1,0], vv3[1,0] + vv3to[1,0])\n",
        "ax.set_xlim([xmin, xmax])\n",
        "ax.set_ylim([ymin, ymax])\n",
        "ax.set_aspect(\"equal\")\n",
        "plt.grid(True)\n",
        "plt.draw()\n",
        "plt.show()"
      ],
      "execution_count": 41,
      "outputs": [
        {
          "output_type": "display_data",
          "data": {
            "image/png": "[encoded data removed]",
            "text/plain": [
              "<Figure size 432x288 with 1 Axes>"
            ]
          },
          "metadata": {
            "tags": []
          }
        }
      ]
    },
    {
      "cell_type": "markdown",
      "metadata": {
        "id": "fDJlOtYDTi1j",
        "colab_type": "text"
      },
      "source": [
        "#Find the transformation for Rotating Water\n",
        "\n",
        "Adjust the entries in the matrix $M_R$ below to transform the water from one region to the other.\n",
        "\n",
        "The Original water region has coordinates:  $(4,3), (8,6), (6,8)$ and $(3, 4)$.\n",
        "\n",
        "The rotated water has coordinates $(0,5), (0,10), (-2.8,9.6)$ and $(-1.4,4.8)$.\n"
      ]
    },
    {
      "cell_type": "code",
      "metadata": {
        "id": "hupu_ikp6Jjh",
        "colab_type": "code",
        "outputId": "0f804cf7-6649-4d4f-ae40-07489141fa5e",
        "colab": {
          "base_uri": "https://localhost:8080/",
          "height": 265
        }
      },
      "source": [
        "R = np.array([[ 4, 3, 4, 3], [ 8, 6, -2, 2], [6, 8, -3, -4], [3, 4, 1, -1] ])\n",
        "R1, R2, R3, R4 = zip(*R)\n",
        "S = np.array([[0, 5, 0, 5], [ 0, 10, -14/5, -2/5], [ -14/5, 48/5, 7/5, -24/5], [ -7/5, 24/5, 7/5, 1/5]])\n",
        "S1, S2, S3, S4 = zip(*S)\n",
        "\n",
        "#  Adjust this matrix to overlay the given Region onto the rotated region R:\n",
        "#  This is correct when the rotated region 'R' is purple.\n",
        "MR = np.matrix([[1, 0], [0, 1]])\n",
        "\n",
        "v1 = np.matrix([[R1[0]], [R2[0]]])\n",
        "v1to = np.matrix([[R3[0]], [R4[0]]])\n",
        "v2 = np.matrix([[R1[1]], [R2[1]]])\n",
        "v2to = np.matrix([[R3[1]], [R4[1]]])\n",
        "v3 = np.matrix([[R1[2]], [R2[2]]])\n",
        "v3to = np.matrix([[R3[2]], [R4[2]]])\n",
        "v4 = np.matrix([[R1[3]], [R2[3]] ])\n",
        "v4to = np.matrix([[R3[3] ], [R4[3]] ])\n",
        "\n",
        "vv1 = MR.dot(v1)\n",
        "vv1to = MR.dot(v1to)\n",
        "vv2 = MR.dot(v2)\n",
        "vv2to = MR.dot(v2to)\n",
        "vv3 = MR.dot(v3)\n",
        "vv3to = MR.dot(v3to)\n",
        "vv4 = MR.dot(v4)\n",
        "vv4to = MR.dot(v4to)\n",
        "\n",
        "GR1 = (vv1[0,0], vv2[0,0], vv3[0,0], vv4[0,0])\n",
        "GR2 = (vv1[1,0], vv2[1,0], vv3[1,0], vv4[1,0])\n",
        "GR3 = (vv1to[0,0], vv2to[0,0], vv3to[0,0], vv4to[0,0])\n",
        "GR4 = (vv1to[1,0], vv2to[1,0], vv3to[1,0], vv4to[1,0])\n",
        "\n",
        "plt.figure()\n",
        "ax = plt.gca()\n",
        "ax.quiver(R1,R2,R3,R4, angles='xy', scale_units='xy', scale=1, color='blue')\n",
        "ax.quiver(S1,S2,S3,S4, angles='xy', scale_units='xy', scale=1, color='red')\n",
        "ax.quiver(GR1,GR2,GR3,GR4, angles='xy', scale_units='xy', scale=1, color='purple')\n",
        "xmin = min(-5, vv1[0,0], vv2[0,0], vv3[0,0], vv4[0,0], vv1[0,0] + vv1to[0,0], vv2[0,0] + vv2to[0,0], vv3[0,0] + vv3to[0,0], vv4[0,0] + vv4to[0,0])\n",
        "xmax = max(9, vv1[0,0], vv2[0,0], vv3[0,0], vv4[0,0], vv1[0,0] + vv1to[0,0], vv2[0,0] + vv2to[0,0], vv3[0,0] + vv3to[0,0],vv4[0,0] + vv4to[0,0])\n",
        "ymin = min(-1, vv1[1,0], vv2[1,0], vv3[1,0], vv4[1,0], vv1[1,0] + vv1to[1,0], vv2[1,0] + vv2to[1,0], vv3[1,0] + vv3to[1,0], vv4[1,0] + vv4to[1,0])\n",
        "ymax = max(11, vv1[1,0], vv2[1,0], vv3[1,0], vv4[1,0], vv1[1,0] + vv1to[1,0], vv2[1,0] + vv2to[1,0], vv3[1,0] + vv3to[1,0], vv4[1,0] + vv4to[1,0])\n",
        "ax.set_xlim([xmin, xmax])\n",
        "ax.set_ylim([ymin, ymax])\n",
        "ax.set_aspect(\"equal\")\n",
        "plt.grid(True)\n",
        "plt.draw()\n",
        "plt.show()"
      ],
      "execution_count": 42,
      "outputs": [
        {
          "output_type": "display_data",
          "data": {
            "image/png": "[encoded data removed]",
            "text/plain": [
              "<Figure size 432x288 with 1 Axes>"
            ]
          },
          "metadata": {
            "tags": []
          }
        }
      ]
    },
    {
      "cell_type": "markdown",
      "metadata": {
        "id": "bLGh-vUjWZUV",
        "colab_type": "text"
      },
      "source": [
        "#  Draining Water:\n",
        "\n",
        "Now, find the matrix $M_{CR}$for the transformation which rotates a section of water around and in toward a drain.\n",
        "\n",
        "\n",
        "The Original water region has coordinates:  $(4,3), (8,6), (6,8)$ and $(3, 4)$.\n",
        "\n",
        "The rotated water has coordinates $(0,2.5), (0,5), (-1.4,4.8)$ and $(-0.7,2.4)$."
      ]
    },
    {
      "cell_type": "code",
      "metadata": {
        "id": "43s1y_uhVHOR",
        "colab_type": "code",
        "outputId": "9a763223-542c-40a0-92a7-1da00e8390a8",
        "colab": {
          "base_uri": "https://localhost:8080/",
          "height": 269
        }
      },
      "source": [
        "CR = np.array([[ 4, 3, 4, 3], [ 8, 6, -2, 2], [6, 8, -3, -4], [3, 4, 1, -1] ])\n",
        "CR1, CR2, CR3, CR4 = zip(*CR)\n",
        "S = np.array([[0, 5/2, 0, 5/2], [ 0, 10/2, -14/10, -2/10], [ -14/10, 48/10, 7/10, -24/10], [ -7/10, 24/10, 7/10, 1/10]])\n",
        "S1, S2, S3, S4 = zip(*S)\n",
        "\n",
        "#  Adjust this matrix to overlay the given Region onto the rotated, shrunken region R:\n",
        "#  This is correct when the rotated region 'R' is purple.\n",
        "MCR = np.matrix([[1, 0], [0, 1]])\n",
        "\n",
        "\n",
        "\n",
        "v1 = np.matrix([[CR1[0]], [CR2[0]]])\n",
        "v1to = np.matrix([[CR3[0]], [CR4[0]]])\n",
        "v2 = np.matrix([[CR1[1]], [CR2[1]]])\n",
        "v2to = np.matrix([[CR3[1]], [CR4[1]]])\n",
        "v3 = np.matrix([[CR1[2]], [CR2[2]]])\n",
        "v3to = np.matrix([[CR3[2]], [CR4[2]]])\n",
        "v4 = np.matrix([[CR1[3]], [CR2[3]] ])\n",
        "v4to = np.matrix([[CR3[3] ], [CR4[3]] ])\n",
        "\n",
        "vv1 = MCR.dot(v1)\n",
        "vv1to = MCR.dot(v1to)\n",
        "vv2 = MCR.dot(v2)\n",
        "vv2to = MCR.dot(v2to)\n",
        "vv3 = MCR.dot(v3)\n",
        "vv3to = MCR.dot(v3to)\n",
        "vv4 = MCR.dot(v4)\n",
        "vv4to = MCR.dot(v4to)\n",
        "\n",
        "GCR1 = (vv1[0,0], vv2[0,0], vv3[0,0], vv4[0,0])\n",
        "GCR2 = (vv1[1,0], vv2[1,0], vv3[1,0], vv4[1,0])\n",
        "GCR3 = (vv1to[0,0], vv2to[0,0], vv3to[0,0], vv4to[0,0])\n",
        "GCR4 = (vv1to[1,0], vv2to[1,0], vv3to[1,0], vv4to[1,0])\n",
        "\n",
        "plt.figure()\n",
        "ax = plt.gca()\n",
        "ax.quiver(CR1,CR2,CR3,CR4, angles='xy', scale_units='xy', scale=1, color='blue')\n",
        "ax.quiver(S1,S2,S3,S4, angles='xy', scale_units='xy', scale=1, color='red')\n",
        "ax.quiver(GCR1,GCR2,GCR3,GCR4, angles='xy', scale_units='xy', scale=1, color='purple')\n",
        "xmin = min(-2, vv1[0,0], vv2[0,0], vv3[0,0], vv4[0,0], vv1[0,0] + vv1to[0,0], vv2[0,0] + vv2to[0,0], vv3[0,0] + vv3to[0,0], vv4[0,0] + vv4to[0,0])\n",
        "xmax = max(9, vv1[0,0], vv2[0,0], vv3[0,0], vv4[0,0], vv1[0,0] + vv1to[0,0], vv2[0,0] + vv2to[0,0], vv3[0,0] + vv3to[0,0],vv4[0,0] + vv4to[0,0])\n",
        "ymin = min(-1, vv1[1,0], vv2[1,0], vv3[1,0], vv4[1,0], vv1[1,0] + vv1to[1,0], vv2[1,0] + vv2to[1,0], vv3[1,0] + vv3to[1,0], vv4[1,0] + vv4to[1,0])\n",
        "ymax = max(10, vv1[1,0], vv2[1,0], vv3[1,0], vv4[1,0], vv1[1,0] + vv1to[1,0], vv2[1,0] + vv2to[1,0], vv3[1,0] + vv3to[1,0], vv4[1,0] + vv4to[1,0])\n",
        "ax.set_xlim([xmin, xmax])\n",
        "ax.set_ylim([ymin, ymax])\n",
        "ax.set_aspect(\"equal\")\n",
        "plt.grid(True)\n",
        "plt.draw()\n",
        "plt.show()"
      ],
      "execution_count": 43,
      "outputs": [
        {
          "output_type": "display_data",
          "data": {
            "image/png": "[encoded data removed]",
            "text/plain": [
              "<Figure size 432x288 with 1 Axes>"
            ]
          },
          "metadata": {
            "tags": []
          }
        }
      ]
    },
    {
      "cell_type": "markdown",
      "metadata": {
        "id": "-MD6RIlMoGuq",
        "colab_type": "text"
      },
      "source": [
        "#Homework:\n",
        "Now, find the matrix  MS for the transformation which brings the red section to the blue region:\n",
        "\n",
        "The Red region has coordinates:  $(1,-1),(3,-3),(5,1)$  and  $(5,3)$ .\n",
        "\n",
        "The Blue region has coordinates  $(0.5,1\\frac{2}{3}),(1\\frac{1}{2}, 5),(5\\frac{1}{2}, 2\\frac{1}{3})$  and  $(6\\frac{1}{2}, \\frac{1}{3})$."
      ]
    },
    {
      "cell_type": "code",
      "metadata": {
        "id": "JjyLWNLhoVGz",
        "colab_type": "code",
        "colab": {
          "base_uri": "https://localhost:8080/",
          "height": 269
        },
        "outputId": "032138f2-dd7d-494d-bb77-d434ca2c9637"
      },
      "source": [
        "CR = np.array([[ 1, -1, 2, -2], [ 3, -3, 2, 4], [5, 1, 0, 2], [5, 3, -4, -4] ])\n",
        "CR1, CR2, CR3, CR4 = zip(*CR)\n",
        "S = np.array([[0.5, 5/3, 1, 10/3], [ 3/2, 5, 4, -8/3], [ 11/2, 7/3, 1, -2], [ 13/2, 1/3, -6, 4/3]])\n",
        "S1, S2, S3, S4 = zip(*S)\n",
        "\n",
        "#  Adjust this matrix to overlay the given Region onto the rotated, shrunken region R:\n",
        "#  This is correct when the rotated region 'R' is purple.\n",
        "MCR = np.matrix([[1, 0], [0, 1]])\n",
        "\n",
        "\n",
        "v1 = np.matrix([[CR1[0]], [CR2[0]]])\n",
        "v1to = np.matrix([[CR3[0]], [CR4[0]]])\n",
        "v2 = np.matrix([[CR1[1]], [CR2[1]]])\n",
        "v2to = np.matrix([[CR3[1]], [CR4[1]]])\n",
        "v3 = np.matrix([[CR1[2]], [CR2[2]]])\n",
        "v3to = np.matrix([[CR3[2]], [CR4[2]]])\n",
        "v4 = np.matrix([[CR1[3]], [CR2[3]] ])\n",
        "v4to = np.matrix([[CR3[3] ], [CR4[3]] ])\n",
        "\n",
        "vv1 = MCR.dot(v1)\n",
        "vv1to = MCR.dot(v1to)\n",
        "vv2 = MCR.dot(v2)\n",
        "vv2to = MCR.dot(v2to)\n",
        "vv3 = MCR.dot(v3)\n",
        "vv3to = MCR.dot(v3to)\n",
        "vv4 = MCR.dot(v4)\n",
        "vv4to = MCR.dot(v4to)\n",
        "\n",
        "GCR1 = (vv1[0,0], vv2[0,0], vv3[0,0], vv4[0,0])\n",
        "GCR2 = (vv1[1,0], vv2[1,0], vv3[1,0], vv4[1,0])\n",
        "GCR3 = (vv1to[0,0], vv2to[0,0], vv3to[0,0], vv4to[0,0])\n",
        "GCR4 = (vv1to[1,0], vv2to[1,0], vv3to[1,0], vv4to[1,0])\n",
        "\n",
        "plt.figure()\n",
        "ax = plt.gca()\n",
        "ax.quiver(CR1,CR2,CR3,CR4, angles='xy', scale_units='xy', scale=1, color='blue')\n",
        "ax.quiver(S1,S2,S3,S4, angles='xy', scale_units='xy', scale=1, color='red')\n",
        "ax.quiver(GCR1,GCR2,GCR3,GCR4, angles='xy', scale_units='xy', scale=1, color='purple')\n",
        "xmin = min(-3, vv1[0,0], vv2[0,0], vv3[0,0], vv4[0,0], vv1[0,0] + vv1to[0,0], vv2[0,0] + vv2to[0,0], vv3[0,0] + vv3to[0,0], vv4[0,0] + vv4to[0,0])\n",
        "xmax = max(8, vv1[0,0], vv2[0,0], vv3[0,0], vv4[0,0], vv1[0,0] + vv1to[0,0], vv2[0,0] + vv2to[0,0], vv3[0,0] + vv3to[0,0],vv4[0,0] + vv4to[0,0])\n",
        "ymin = min(-4, vv1[1,0], vv2[1,0], vv3[1,0], vv4[1,0], vv1[1,0] + vv1to[1,0], vv2[1,0] + vv2to[1,0], vv3[1,0] + vv3to[1,0], vv4[1,0] + vv4to[1,0])\n",
        "ymax = max(6, vv1[1,0], vv2[1,0], vv3[1,0], vv4[1,0], vv1[1,0] + vv1to[1,0], vv2[1,0] + vv2to[1,0], vv3[1,0] + vv3to[1,0], vv4[1,0] + vv4to[1,0])\n",
        "ax.set_xlim([xmin, xmax])\n",
        "ax.set_ylim([ymin, ymax])\n",
        "ax.set_aspect(\"equal\")\n",
        "plt.grid(True)\n",
        "plt.draw()\n",
        "plt.show()"
      ],
      "execution_count": 46,
      "outputs": [
        {
          "output_type": "display_data",
          "data": {
            "image/png": "[encoded data removed]",
            "text/plain": [
              "<Figure size 432x288 with 1 Axes>"
            ]
          },
          "metadata": {
            "tags": []
          }
        }
      ]
    },
    {
      "cell_type": "code",
      "metadata": {
        "id": "PFD87CwyomTM",
        "colab_type": "code",
        "colab": {
          "base_uri": "https://localhost:8080/",
          "height": 51
        },
        "outputId": "8d76f013-f521-4db4-a092-afe828e8ede4"
      },
      "source": [
        "#  blue coordinates:  Give the Blue coordinates in terms of the canonical basis:\n",
        "BB = np.matrix([[ 1 , 0], [ 0 , 1 ]])\n",
        "\n",
        "# Find the inverse matrix (e.g. Canonical basis in terms of Blue coordinates)\n",
        "BBI = BB.getI()\n",
        "\n",
        "# Transformation written on the Blue Basis.  Where does your Blue Basis go?\n",
        "T = np.matrix([[ 1 , 0 ], [ 0  ,  1 ]])\n",
        "\n",
        "# Give the transformation in terms of the canonical basis:\n",
        "T*BBI"
      ],
      "execution_count": 37,
      "outputs": [
        {
          "output_type": "execute_result",
          "data": {
            "text/plain": [
              "matrix([[1., 0.],\n",
              "        [0., 1.]])"
            ]
          },
          "metadata": {
            "tags": []
          },
          "execution_count": 37
        }
      ]
    },
    {
      "cell_type": "code",
      "metadata": {
        "id": "1hHFtkaDBCEL",
        "colab_type": "code",
        "colab": {}
      },
      "source": [
        ""
      ],
      "execution_count": 0,
      "outputs": []
    }
  ]
}